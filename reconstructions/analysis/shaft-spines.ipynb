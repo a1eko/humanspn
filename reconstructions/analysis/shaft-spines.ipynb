{
 "cells": [
  {
   "cell_type": "code",
   "execution_count": 1,
   "id": "b56c23e8",
   "metadata": {},
   "outputs": [],
   "source": [
    "import pandas as pd"
   ]
  },
  {
   "cell_type": "code",
   "execution_count": 2,
   "id": "bf11c140",
   "metadata": {},
   "outputs": [
    {
     "data": {
      "text/html": [
       "<div>\n",
       "<style scoped>\n",
       "    .dataframe tbody tr th:only-of-type {\n",
       "        vertical-align: middle;\n",
       "    }\n",
       "\n",
       "    .dataframe tbody tr th {\n",
       "        vertical-align: top;\n",
       "    }\n",
       "\n",
       "    .dataframe thead th {\n",
       "        text-align: right;\n",
       "    }\n",
       "</style>\n",
       "<table border=\"1\" class=\"dataframe\">\n",
       "  <thead>\n",
       "    <tr style=\"text-align: right;\">\n",
       "      <th></th>\n",
       "      <th>species</th>\n",
       "      <th>spine mean</th>\n",
       "      <th>spine SD</th>\n",
       "      <th>spine SEM</th>\n",
       "      <th>spine N</th>\n",
       "      <th>spine sum</th>\n",
       "      <th>shaft sum</th>\n",
       "    </tr>\n",
       "  </thead>\n",
       "  <tbody>\n",
       "    <tr>\n",
       "      <th>0</th>\n",
       "      <td>human</td>\n",
       "      <td>4.37</td>\n",
       "      <td>2.83</td>\n",
       "      <td>0.32</td>\n",
       "      <td>77</td>\n",
       "      <td>336.26</td>\n",
       "      <td>560.54</td>\n",
       "    </tr>\n",
       "    <tr>\n",
       "      <th>1</th>\n",
       "      <td>human</td>\n",
       "      <td>3.90</td>\n",
       "      <td>2.59</td>\n",
       "      <td>0.25</td>\n",
       "      <td>103</td>\n",
       "      <td>401.86</td>\n",
       "      <td>655.28</td>\n",
       "    </tr>\n",
       "    <tr>\n",
       "      <th>2</th>\n",
       "      <td>human</td>\n",
       "      <td>3.96</td>\n",
       "      <td>2.48</td>\n",
       "      <td>0.21</td>\n",
       "      <td>145</td>\n",
       "      <td>574.50</td>\n",
       "      <td>759.44</td>\n",
       "    </tr>\n",
       "    <tr>\n",
       "      <th>3</th>\n",
       "      <td>human</td>\n",
       "      <td>4.92</td>\n",
       "      <td>2.88</td>\n",
       "      <td>0.27</td>\n",
       "      <td>111</td>\n",
       "      <td>546.63</td>\n",
       "      <td>643.97</td>\n",
       "    </tr>\n",
       "    <tr>\n",
       "      <th>4</th>\n",
       "      <td>mouse</td>\n",
       "      <td>2.81</td>\n",
       "      <td>1.45</td>\n",
       "      <td>0.12</td>\n",
       "      <td>151</td>\n",
       "      <td>423.93</td>\n",
       "      <td>391.57</td>\n",
       "    </tr>\n",
       "    <tr>\n",
       "      <th>5</th>\n",
       "      <td>mouse</td>\n",
       "      <td>3.58</td>\n",
       "      <td>1.70</td>\n",
       "      <td>0.15</td>\n",
       "      <td>128</td>\n",
       "      <td>457.96</td>\n",
       "      <td>368.82</td>\n",
       "    </tr>\n",
       "    <tr>\n",
       "      <th>6</th>\n",
       "      <td>mouse</td>\n",
       "      <td>2.87</td>\n",
       "      <td>1.24</td>\n",
       "      <td>0.10</td>\n",
       "      <td>150</td>\n",
       "      <td>430.22</td>\n",
       "      <td>297.82</td>\n",
       "    </tr>\n",
       "    <tr>\n",
       "      <th>7</th>\n",
       "      <td>mouse</td>\n",
       "      <td>3.35</td>\n",
       "      <td>1.61</td>\n",
       "      <td>0.16</td>\n",
       "      <td>106</td>\n",
       "      <td>354.72</td>\n",
       "      <td>294.51</td>\n",
       "    </tr>\n",
       "  </tbody>\n",
       "</table>\n",
       "</div>"
      ],
      "text/plain": [
       "  species  spine mean  spine SD  spine SEM  spine N  spine sum  shaft sum\n",
       "0   human        4.37      2.83       0.32       77     336.26     560.54\n",
       "1   human        3.90      2.59       0.25      103     401.86     655.28\n",
       "2   human        3.96      2.48       0.21      145     574.50     759.44\n",
       "3   human        4.92      2.88       0.27      111     546.63     643.97\n",
       "4   mouse        2.81      1.45       0.12      151     423.93     391.57\n",
       "5   mouse        3.58      1.70       0.15      128     457.96     368.82\n",
       "6   mouse        2.87      1.24       0.10      150     430.22     297.82\n",
       "7   mouse        3.35      1.61       0.16      106     354.72     294.51"
      ]
     },
     "execution_count": 2,
     "metadata": {},
     "output_type": "execute_result"
    }
   ],
   "source": [
    "data = pd.read_csv('metadata/update_spines_surface_area.csv')\n",
    "data"
   ]
  },
  {
   "cell_type": "code",
   "execution_count": 3,
   "id": "296049f1",
   "metadata": {},
   "outputs": [],
   "source": [
    "msel = data['species'] == 'mouse'\n",
    "hsel = data['species'] == 'human'"
   ]
  },
  {
   "cell_type": "code",
   "execution_count": 4,
   "id": "0518a493",
   "metadata": {},
   "outputs": [],
   "source": [
    "import numpy as np\n",
    "import matplotlib as mpl\n",
    "import matplotlib.pyplot as plt"
   ]
  },
  {
   "cell_type": "code",
   "execution_count": 5,
   "id": "8c7735e6",
   "metadata": {},
   "outputs": [],
   "source": [
    "Set1 = mpl.colormaps['Set1']\n",
    "Pastel1 = mpl.colormaps['Pastel1']\n",
    "mcolor = Set1(0.0)\n",
    "hcolor = Set1(1.0/9)\n",
    "mcolor_light = Pastel1(0.0)\n",
    "hcolor_light = Pastel1(1.0/9)"
   ]
  },
  {
   "cell_type": "code",
   "execution_count": 6,
   "id": "96d986c7",
   "metadata": {},
   "outputs": [
    {
     "data": {
      "image/png": "[encoded data removed]",
      "text/plain": [
       "<Figure size 400x300 with 1 Axes>"
      ]
     },
     "metadata": {},
     "output_type": "display_data"
    }
   ],
   "source": [
    "fig, ax = plt.subplots(figsize=(4, 3))\n",
    "\n",
    "ax.bar(range(len(data[msel])), data['spine mean'][msel], \n",
    "       yerr=data['spine SD'][msel], \n",
    "       color=mcolor, label='Mouse',\n",
    "       error_kw={'ecolor': mcolor, 'linewidth': 2, 'capsize': 6, 'capthick':2})\n",
    "\n",
    "ax.bar(range(len(data[msel]), len(data[msel]) + len(data[hsel])), data['spine mean'][hsel], \n",
    "       yerr=data['spine SD'][hsel], \n",
    "       color=hcolor, label='Human',\n",
    "       error_kw={'ecolor': hcolor, 'linewidth': 2, 'capsize': 6, 'capthick':2})\n",
    "\n",
    "for x, spines in enumerate(zip(data['spine mean'][msel] + data['spine SD'][msel], [f\"{n}\" for n in data['spine N'][msel]])):\n",
    "    ax.text(x, spines[0]+0.5, f'{spines[1]}', ha='center', va='bottom')\n",
    "\n",
    "for x, spines in enumerate(zip(data['spine mean'][hsel] + data['spine SD'][hsel], [f\"{n}\" for n in data['spine N'][hsel]])):\n",
    "    ax.text(x + len(data[msel]), spines[0]+0.5, f'{spines[1]}', ha='center', va='bottom')\n",
    "\n",
    "ax.set_ylabel('Spine area ($\\mu$m$^2$)')\n",
    "ax.spines[['right', 'top', 'bottom']].set_visible(False)\n",
    "ax.set_xticks([])\n",
    "fig.savefig('images/shaft-spines-1.pdf')"
   ]
  },
  {
   "cell_type": "code",
   "execution_count": 7,
   "id": "fd1985a3",
   "metadata": {},
   "outputs": [
    {
     "name": "stdout",
     "output_type": "stream",
     "text": [
      "Mean spine area (mouse):\n"
     ]
    },
    {
     "data": {
      "text/plain": [
       "3.1180373831775703"
      ]
     },
     "execution_count": 7,
     "metadata": {},
     "output_type": "execute_result"
    }
   ],
   "source": [
    "print('Mean spine area (mouse):')\n",
    "sum(data['spine mean'][msel] * data['spine N'][msel]) / sum(data[msel]['spine N'])"
   ]
  },
  {
   "cell_type": "code",
   "execution_count": 8,
   "id": "2e80c78d",
   "metadata": {},
   "outputs": [
    {
     "name": "stdout",
     "output_type": "stream",
     "text": [
      "Mean spine area (human):\n"
     ]
    },
    {
     "data": {
      "text/plain": [
       "4.2626376146789"
      ]
     },
     "execution_count": 8,
     "metadata": {},
     "output_type": "execute_result"
    }
   ],
   "source": [
    "print('Mean spine area (human):')\n",
    "sum(data['spine mean'][hsel] * data['spine N'][hsel]) / sum(data[hsel]['spine N'])"
   ]
  },
  {
   "cell_type": "code",
   "execution_count": 9,
   "id": "e5a79bd0",
   "metadata": {},
   "outputs": [
    {
     "data": {
      "image/png": "[encoded data removed]",
      "text/plain": [
       "<Figure size 400x300 with 1 Axes>"
      ]
     },
     "metadata": {},
     "output_type": "display_data"
    }
   ],
   "source": [
    "fig, ax = plt.subplots(figsize=(4, 3))\n",
    "\n",
    "ax.bar(np.array(range(len(data[msel])))-0.15, data['spine sum'][msel], \n",
    "       width=0.3, color=mcolor, label='Mouse spines')\n",
    "ax.bar(np.array(range(len(data[msel])))+0.15, data['shaft sum'][msel], \n",
    "       width=0.3, color=mcolor_light, label='Mouse shaft')\n",
    "\n",
    "ax.bar(len(data[hsel]) + np.array(range(len(data[hsel])))-0.15, data['spine sum'][hsel], \n",
    "       width=0.3, color=hcolor, label='Human spines')\n",
    "ax.bar(len(data[hsel]) + np.array(range(len(data[hsel])))+0.15, data['shaft sum'][hsel], \n",
    "       width=0.3, color=hcolor_light, label='Human shaft')\n",
    "\n",
    "ax.set_ylabel('Total area ($\\mu$m$^2$)')\n",
    "ax.spines[['right', 'top', 'bottom']].set_visible(False)\n",
    "ax.set_xticks([])\n",
    "ax.legend(frameon=False)\n",
    "fig.savefig('images/shaft-spines-2.pdf')"
   ]
  },
  {
   "cell_type": "code",
   "execution_count": 10,
   "id": "f17f2a0c",
   "metadata": {},
   "outputs": [
    {
     "name": "stdout",
     "output_type": "stream",
     "text": [
      "Area correction factor F_spines (mouse):\n"
     ]
    },
    {
     "data": {
      "text/plain": [
       "2.232206221538825"
      ]
     },
     "execution_count": 10,
     "metadata": {},
     "output_type": "execute_result"
    }
   ],
   "source": [
    "print('Area correction factor F_spines (mouse):')\n",
    "mfspines = sum(data['spine sum'][msel] + data['shaft sum'][msel]) / sum(data['shaft sum'][msel])\n",
    "mfspines"
   ]
  },
  {
   "cell_type": "code",
   "execution_count": 11,
   "id": "1b771b52",
   "metadata": {},
   "outputs": [
    {
     "data": {
      "text/plain": [
       "0.1503671243616074"
      ]
     },
     "execution_count": 11,
     "metadata": {},
     "output_type": "execute_result"
    }
   ],
   "source": [
    "((data['spine sum'][msel] + data['shaft sum'][msel]) / (data['shaft sum'][msel])).std()"
   ]
  },
  {
   "cell_type": "code",
   "execution_count": 12,
   "id": "42fa51e8",
   "metadata": {},
   "outputs": [
    {
     "name": "stdout",
     "output_type": "stream",
     "text": [
      "Area correction factor F_spines (human):\n"
     ]
    },
    {
     "data": {
      "text/plain": [
       "1.7098460234496395"
      ]
     },
     "execution_count": 12,
     "metadata": {},
     "output_type": "execute_result"
    }
   ],
   "source": [
    "print('Area correction factor F_spines (human):')\n",
    "hfspines = sum(data['spine sum'][hsel] + data['shaft sum'][hsel]) / sum(data['shaft sum'][hsel])\n",
    "hfspines"
   ]
  },
  {
   "cell_type": "code",
   "execution_count": 13,
   "id": "82e11e2f",
   "metadata": {},
   "outputs": [
    {
     "data": {
      "text/plain": [
       "0.11944998165809899"
      ]
     },
     "execution_count": 13,
     "metadata": {},
     "output_type": "execute_result"
    }
   ],
   "source": [
    "((data['spine sum'][hsel] + data['shaft sum'][hsel]) / (data['shaft sum'][hsel])).std()"
   ]
  },
  {
   "cell_type": "code",
   "execution_count": 14,
   "id": "674fa592",
   "metadata": {},
   "outputs": [
    {
     "data": {
      "image/png": "[encoded data removed]",
      "text/plain": [
       "<Figure size 400x300 with 1 Axes>"
      ]
     },
     "metadata": {},
     "output_type": "display_data"
    }
   ],
   "source": [
    "fig, ax = plt.subplots(figsize=(4, 3))\n",
    "\n",
    "ax.bar(range(len(data[msel])), \n",
    "       (data['spine sum'][msel] + data['shaft sum'][msel]) / data['shaft sum'][msel], \n",
    "       color=mcolor, label='Mouse')\n",
    "ax.axhline(mfspines, 0, 0.5, color='black', linestyle='--')\n",
    "ax.text(0, mfspines + 0.15, f'{mfspines:.2f}', color=mcolor, weight='bold')\n",
    "\n",
    "ax.bar(len(data[hsel]) + np.array(range(len(data[hsel]))), \n",
    "       (data['spine sum'][hsel] + data['shaft sum'][hsel]) / data['shaft sum'][hsel], \n",
    "       color=hcolor, label='Human')\n",
    "ax.axhline(hfspines, 0.5, 1.0, color='black', linestyle='--')\n",
    "ax.text(4, hfspines + 0.15, f'{hfspines:.2f}', color=hcolor, weight='bold')\n",
    "\n",
    "\n",
    "ax.set_ylabel('Area correction factor')\n",
    "ax.spines[['right', 'top', 'bottom']].set_visible(False)\n",
    "ax.set_xticks([])\n",
    "ax.legend(frameon=False)\n",
    "fig.savefig('images/shaft-spines-3.pdf')"
   ]
  },
  {
   "cell_type": "code",
   "execution_count": null,
   "id": "edf4868a",
   "metadata": {},
   "outputs": [],
   "source": []
  }
 ],
 "metadata": {
  "kernelspec": {
   "display_name": "Python 3 (ipykernel)",
   "language": "python",
   "name": "python3"
  },
  "language_info": {
   "codemirror_mode": {
    "name": "ipython",
    "version": 3
   },
   "file_extension": ".py",
   "mimetype": "text/x-python",
   "name": "python",
   "nbconvert_exporter": "python",
   "pygments_lexer": "ipython3",
   "version": "3.10.16"
  }
 },
 "nbformat": 4,
 "nbformat_minor": 5
}
