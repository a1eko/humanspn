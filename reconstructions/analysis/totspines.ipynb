{
 "cells": [
  {
   "cell_type": "code",
   "execution_count": 1,
   "id": "b7fdf50d",
   "metadata": {},
   "outputs": [],
   "source": [
    "import json\n",
    "import numpy as np\n",
    "from glob import glob\n",
    "\n",
    "from treem import Morph, SWC, SEG, get_segdata"
   ]
  },
  {
   "cell_type": "code",
   "execution_count": 2,
   "id": "3a37a1e5",
   "metadata": {},
   "outputs": [],
   "source": [
    "def sigmoid(x, a, b, c):\n",
    "    return a / (1 + np.exp(-(x - b) / c))"
   ]
  },
  {
   "cell_type": "code",
   "execution_count": 3,
   "id": "32f4db0b",
   "metadata": {},
   "outputs": [
    {
     "data": {
      "text/plain": [
       "'\\ndef linsigmoid(x, a, b, c, d):\\n    return a / (1 + np.exp(-(x - b) / c)) * (1 - (x - b) / d)\\n'"
      ]
     },
     "execution_count": 3,
     "metadata": {},
     "output_type": "execute_result"
    }
   ],
   "source": [
    "\"\"\"\n",
    "def linsigmoid(x, a, b, c, d):\n",
    "    return a / (1 + np.exp(-(x - b) / c)) * (1 - (x - b) / d)\n",
    "\"\"\""
   ]
  },
  {
   "cell_type": "code",
   "execution_count": 4,
   "id": "b9115504",
   "metadata": {},
   "outputs": [],
   "source": [
    "densityfit = json.load(open('metadata/densityfit.json'))"
   ]
  },
  {
   "cell_type": "code",
   "execution_count": 5,
   "id": "0380ac16",
   "metadata": {},
   "outputs": [],
   "source": [
    "def tot_spines(rec, fit, par):\n",
    "    m = Morph(rec)\n",
    "    d = get_segdata(m)\n",
    "    spines = 0.0\n",
    "    for seg in d:\n",
    "        if seg[SEG.T] == SWC.DEND:\n",
    "            dist, length = seg[SEG.PATH], seg[SEG.LENGTH]\n",
    "            dens = fit(dist, *par)\n",
    "            spines += dens*length\n",
    "    return int(spines)"
   ]
  },
  {
   "cell_type": "code",
   "execution_count": 6,
   "id": "a323f243",
   "metadata": {},
   "outputs": [],
   "source": [
    "def seg_spines(rec, fit, par):\n",
    "    m = Morph(rec)\n",
    "    d = get_segdata(m)\n",
    "    segspines = []\n",
    "    for seg in d:\n",
    "        if seg[SEG.T] == SWC.DEND:\n",
    "            dist, length = seg[SEG.PATH], seg[SEG.LENGTH]\n",
    "            dens = fit(dist, *par)\n",
    "            spines = dens*length\n",
    "            segspines.append([seg[SEG.ORDER], seg[SEG.BREADTH], spines])\n",
    "    return segspines"
   ]
  },
  {
   "cell_type": "code",
   "execution_count": 7,
   "id": "263eb31b",
   "metadata": {},
   "outputs": [],
   "source": [
    "mspines = []\n",
    "mspines_seg = []\n",
    "for rec in glob('../data/mouse/derived/release/*.swc'):\n",
    "    mspines.append(tot_spines(rec, sigmoid, densityfit['Mouse']))\n",
    "    #mspines_seg.extend(seg_spines(rec, sigmoid, densityfit['Mouse']))\n",
    "    mspines_seg.append(seg_spines(rec, sigmoid, densityfit['Mouse']))"
   ]
  },
  {
   "cell_type": "code",
   "execution_count": 8,
   "id": "6f065280",
   "metadata": {},
   "outputs": [],
   "source": [
    "hspines = []\n",
    "hspines_seg = []\n",
    "for rec in glob('../data/human/derived/release/*.swc'):\n",
    "    hspines.append(tot_spines(rec, sigmoid, densityfit['Human']))\n",
    "    hspines_seg.append(seg_spines(rec, sigmoid, densityfit['Human']))"
   ]
  },
  {
   "cell_type": "code",
   "execution_count": 9,
   "id": "cd07df03",
   "metadata": {},
   "outputs": [],
   "source": [
    "from scipy.stats import ttest_ind\n",
    "\n",
    "def p_stars(x, y, pvalues=[0.001, 0.01, 0.05]):\n",
    "    pv = ttest_ind(x, y).pvalue\n",
    "    stars = 'n/s'\n",
    "    if pv < pvalues[0]:\n",
    "        stars = '***'\n",
    "    elif pv < pvalues[1]:\n",
    "        stars = '**'\n",
    "    elif pv < pvalues[2]:\n",
    "        stars = '*'\n",
    "    return stars"
   ]
  },
  {
   "cell_type": "code",
   "execution_count": 10,
   "id": "1f80fca8",
   "metadata": {},
   "outputs": [],
   "source": [
    "import matplotlib as mpl\n",
    "import matplotlib.pyplot as plt"
   ]
  },
  {
   "cell_type": "code",
   "execution_count": 11,
   "id": "85b92f84",
   "metadata": {},
   "outputs": [],
   "source": [
    "Set1 = mpl.colormaps['Set1']\n",
    "Pastel1 = mpl.colormaps['Pastel1']\n",
    "mcolor = Set1(0.0)\n",
    "hcolor = Set1(1.0/9)\n",
    "mcolor_light = Pastel1(0.0)\n",
    "hcolor_light = Pastel1(1.0/9)"
   ]
  },
  {
   "cell_type": "code",
   "execution_count": 12,
   "id": "edc5a11e",
   "metadata": {},
   "outputs": [],
   "source": [
    "import pandas as pd\n",
    "import seaborn as sns"
   ]
  },
  {
   "cell_type": "code",
   "execution_count": 13,
   "id": "de80db30",
   "metadata": {},
   "outputs": [],
   "source": [
    "d1 = pd.DataFrame({\"density\": mspines, \"species\": ['Mouse']*len(mspines)})\n",
    "d2 = pd.DataFrame({\"density\": hspines, \"species\": ['Human']*len(hspines)})\n",
    "spines = pd.concat([d1, d2])"
   ]
  },
  {
   "cell_type": "code",
   "execution_count": 14,
   "id": "c5e51527",
   "metadata": {},
   "outputs": [
    {
     "data": {
      "image/png": "[encoded data removed]",
      "text/plain": [
       "<Figure size 200x300 with 1 Axes>"
      ]
     },
     "metadata": {},
     "output_type": "display_data"
    }
   ],
   "source": [
    "ax = plt.figure(figsize=(2, 3)).add_subplot()\n",
    "sns.swarmplot(spines, x='species', y='density', hue='species', ax=ax, \n",
    "              size=5, palette=[mcolor_light, hcolor_light])\n",
    "sns.boxplot(spines, x='species', y='density', hue='species', ax=ax, \n",
    "            zorder=3, fill=False, showfliers=False, linewidth=2,\n",
    "            palette=[mcolor, hcolor])\n",
    "ax.text(0.6, 0.95, p_stars(mspines, hspines), transform=ax.transAxes, ha='center', fontsize=12)\n",
    "\n",
    "ax.set_ylabel('Total number of spines')\n",
    "ax.set_xlabel('')\n",
    "ax.spines[['right', 'top']].set_visible(False)\n",
    "ax.set_ylim(bottom=0, top=max(mspines)*1.2)\n",
    "ax.set_xlim(left=-0.75)\n",
    "\n",
    "plt.savefig('images/totspines-1.pdf')"
   ]
  },
  {
   "cell_type": "code",
   "execution_count": 15,
   "id": "deaefb22",
   "metadata": {},
   "outputs": [],
   "source": [
    "mspines_term = []\n",
    "for cell in mspines_seg:\n",
    "    cell = np.array(cell)\n",
    "    nspines = sum(cell[:,2])\n",
    "    nterm = sum(cell[cell[:,1]==1][:,2])\n",
    "    mspines_term.append(nterm / nspines * 100)"
   ]
  },
  {
   "cell_type": "code",
   "execution_count": 16,
   "id": "11861eda",
   "metadata": {},
   "outputs": [],
   "source": [
    "hspines_term = []\n",
    "for cell in hspines_seg:\n",
    "    cell = np.array(cell)\n",
    "    nspines = sum(cell[:,2])\n",
    "    nterm = sum(cell[cell[:,1]==1][:,2])\n",
    "    hspines_term.append(nterm / nspines * 100)"
   ]
  },
  {
   "cell_type": "code",
   "execution_count": 17,
   "id": "55c77eee",
   "metadata": {},
   "outputs": [],
   "source": [
    "t1 = pd.DataFrame({\"density\": mspines_term, \"species\": ['Mouse']*len(mspines_term)})\n",
    "t2 = pd.DataFrame({\"density\": hspines_term, \"species\": ['Human']*len(hspines_term)})\n",
    "term_spines = pd.concat([t1, t2])"
   ]
  },
  {
   "cell_type": "code",
   "execution_count": 18,
   "id": "6c9bd526",
   "metadata": {},
   "outputs": [
    {
     "data": {
      "image/png": "[encoded data removed]",
      "text/plain": [
       "<Figure size 200x300 with 1 Axes>"
      ]
     },
     "metadata": {},
     "output_type": "display_data"
    }
   ],
   "source": [
    "ax = plt.figure(figsize=(2, 3)).add_subplot()\n",
    "sns.swarmplot(term_spines, x='species', y='density', hue='species', ax=ax, \n",
    "              size=5, palette=[mcolor_light, hcolor_light])\n",
    "sns.boxplot(term_spines, x='species', y='density', hue='species', ax=ax, \n",
    "            zorder=3, fill=False, showfliers=False, linewidth=2,\n",
    "            palette=[mcolor, hcolor])\n",
    "ax.text(0.6, 0.95, p_stars(mspines_term, hspines_term), transform=ax.transAxes, ha='center', fontsize=14)\n",
    "\n",
    "ax.set_ylabel('Spines on terminal dendrites (%)')\n",
    "ax.set_xlabel('')\n",
    "ax.spines[['right', 'top']].set_visible(False)\n",
    "ax.set_yticks([80,85,90,95,100])\n",
    "ax.set_ylim(80, 103)\n",
    "ax.set_xlim(left=-0.75)\n",
    "\n",
    "plt.savefig('images/totspines-2.pdf')"
   ]
  },
  {
   "cell_type": "code",
   "execution_count": 19,
   "id": "662e3589",
   "metadata": {},
   "outputs": [
    {
     "data": {
      "text/plain": [
       "(91.32358525125314, 95.8319311646114)"
      ]
     },
     "execution_count": 19,
     "metadata": {},
     "output_type": "execute_result"
    }
   ],
   "source": [
    "np.mean(mspines_term), np.mean(hspines_term)"
   ]
  },
  {
   "cell_type": "code",
   "execution_count": null,
   "id": "8eb240f6",
   "metadata": {},
   "outputs": [],
   "source": []
  }
 ],
 "metadata": {
  "kernelspec": {
   "display_name": "Python 3 (ipykernel)",
   "language": "python",
   "name": "python3"
  },
  "language_info": {
   "codemirror_mode": {
    "name": "ipython",
    "version": 3
   },
   "file_extension": ".py",
   "mimetype": "text/x-python",
   "name": "python",
   "nbconvert_exporter": "python",
   "pygments_lexer": "ipython3",
   "version": "3.10.16"
  }
 },
 "nbformat": 4,
 "nbformat_minor": 5
}
