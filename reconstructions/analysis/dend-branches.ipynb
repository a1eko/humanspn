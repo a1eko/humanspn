{
 "cells": [
  {
   "cell_type": "code",
   "execution_count": 1,
   "id": "63def667",
   "metadata": {},
   "outputs": [],
   "source": [
    "import numpy as np\n",
    "from glob import glob\n",
    "from treem import Morph, Node, SWC\n",
    "import matplotlib.pyplot as plt\n",
    "import matplotlib as mpl"
   ]
  },
  {
   "cell_type": "code",
   "execution_count": 2,
   "id": "a0e2c604",
   "metadata": {},
   "outputs": [],
   "source": [
    "def load_branch(morph, stem):\n",
    "    origin = Morph(data=np.array([[1, 1, 0, 0, 0, 5, -1],]))\n",
    "    branch = morph.copy(stem)\n",
    "    origin.graft(branch)\n",
    "    for node in origin.stems():\n",
    "        break\n",
    "    shift = stem.coord() - origin.root.coord()\n",
    "    origin.translate(-shift, node)\n",
    "    return origin"
   ]
  },
  {
   "cell_type": "code",
   "execution_count": 3,
   "id": "baa09de9",
   "metadata": {
    "scrolled": true
   },
   "outputs": [],
   "source": [
    "mbranches = list()\n",
    "for src in glob('../data/mouse/derived/sanitized/*.swc'):\n",
    "    m = Morph(src)\n",
    "    for stem in m.stems():\n",
    "        if stem.type() == SWC.DEND:\n",
    "            branch = load_branch(m, stem)\n",
    "            breadth = stem.breadth()\n",
    "            totlen = sum([x.length() for x in stem.walk()])\n",
    "            mbranches.append([src, stem.ident(), branch, breadth, totlen])"
   ]
  },
  {
   "cell_type": "code",
   "execution_count": 4,
   "id": "9f77262a",
   "metadata": {},
   "outputs": [
    {
     "data": {
      "text/plain": [
       "'len(mbranches)=47, number of terminals 1-13, mean 4.382978723404255'"
      ]
     },
     "execution_count": 4,
     "metadata": {},
     "output_type": "execute_result"
    }
   ],
   "source": [
    "mbranches = np.array(sorted(mbranches, key=lambda x: (x[3], x[4])))\n",
    "f'{len(mbranches)=}, number of terminals {min(mbranches[:,3])}-{max(mbranches[:,3])}, mean {mbranches[:,3].mean()}'"
   ]
  },
  {
   "cell_type": "code",
   "execution_count": 5,
   "id": "95abb6e2",
   "metadata": {},
   "outputs": [],
   "source": [
    "hbranches = list()\n",
    "for src in glob('../data/human/derived/sanitized/*.swc'):\n",
    "    m = Morph(src)\n",
    "    for stem in m.stems():\n",
    "        if stem.type() == SWC.DEND:\n",
    "            branch = load_branch(m, stem)\n",
    "            breadth = stem.breadth()\n",
    "            totlen = sum([x.length() for x in stem.walk()])\n",
    "            hbranches.append([src, stem.ident(), branch, breadth, totlen])"
   ]
  },
  {
   "cell_type": "code",
   "execution_count": 6,
   "id": "34c8e688",
   "metadata": {},
   "outputs": [
    {
     "data": {
      "text/plain": [
       "'len(hbranches)=35, number of terminals: 1-21, mean 4.628571428571429'"
      ]
     },
     "execution_count": 6,
     "metadata": {},
     "output_type": "execute_result"
    }
   ],
   "source": [
    "hbranches = np.array(sorted(hbranches, key=lambda x: (x[3], x[4])))\n",
    "f'{len(hbranches)=}, number of terminals: {min(hbranches[:,3])}-{max(hbranches[:,3])}, mean {hbranches[:,3].mean()}'"
   ]
  },
  {
   "cell_type": "code",
   "execution_count": 7,
   "id": "792284e0",
   "metadata": {},
   "outputs": [],
   "source": [
    "def get_segdata(morph):\n",
    "    m = morph\n",
    "    d = dict()\n",
    "    for i, t, x, y, z, r, p in m.data:\n",
    "        i, t, x, y, z, r, p = int(i), int(t), x, y, z, r, int(p)\n",
    "        d[i] = {'t': t, 'x': x, 'y': y, 'z': z, 'r': r, 'p': p}\n",
    "    \n",
    "    center = m.root.coord()\n",
    "    for node in m.root.walk():\n",
    "        if node.type() == SWC.SOMA:\n",
    "            ident = node.ident()\n",
    "            d[ident]['length'] = 0.0\n",
    "            d[ident]['path'] = 0.0\n",
    "            d[ident]['xsec'] = 0.0\n",
    "            d[ident]['xsec_rel'] = 0.0\n",
    "            d[ident]['dist'] = 0.0\n",
    "            d[ident]['order'] = 0\n",
    "            d[ident]['breadth'] = 0\n",
    "            d[ident]['totlen'] = 0.0\n",
    "\n",
    "    for stem in m.stems():\n",
    "        for sec in stem.sections():\n",
    "            order = 1\n",
    "            xsec = 0.0\n",
    "            seclen = m.length(sec)\n",
    "            for node in sec:\n",
    "                ident = node.ident()\n",
    "                length = node.length()\n",
    "                xsec += length\n",
    "                if node.parent.is_fork() and node.parent != m.root:\n",
    "                    order += 1\n",
    "                dist = np.linalg.norm(center - node.coord())\n",
    "                path = d[node.parent.ident()]['path']\n",
    "                path += length\n",
    "                d[ident]['length'] = length\n",
    "                d[ident]['path'] = path\n",
    "                d[ident]['xsec'] = xsec\n",
    "                d[ident]['xsec_rel'] = xsec / seclen\n",
    "                d[ident]['dist'] = dist\n",
    "                d[ident]['order'] = order\n",
    "                d[ident]['breadth'] = 1\n",
    "                d[ident]['totlen'] = 0.0\n",
    "\n",
    "    for term in m.root.leaves():\n",
    "        for node in term.walk(reverse=True):\n",
    "            if not node.is_leaf():\n",
    "                ident = node.ident()\n",
    "                descent_ident = [x.ident() for x in node.siblings]\n",
    "                descent_length = [x.length() for x in node.siblings]\n",
    "                descent_breadth = [d[i]['breadth'] for i in descent_ident]\n",
    "                descent_totlen = [d[i]['totlen'] for i in descent_ident]\n",
    "                breadth = sum(descent_breadth)\n",
    "                totlen = sum(descent_totlen) + sum(descent_length)\n",
    "                d[ident]['breadth'] = breadth\n",
    "                d[ident]['totlen'] = totlen\n",
    "                \n",
    "    return np.array([[i, d[i]['t'], d[i]['x'], d[i]['y'], d[i]['z'], d[i]['r'], d[i]['p'], \n",
    "                      d[i]['length'], d[i]['path'], d[i]['xsec'], d[i]['xsec_rel'], \n",
    "                      d[i]['dist'], d[i]['order'], d[i]['breadth'], d[i]['totlen']] \n",
    "                     for i in sorted(d)])"
   ]
  },
  {
   "cell_type": "code",
   "execution_count": 8,
   "id": "a019bda1",
   "metadata": {},
   "outputs": [],
   "source": [
    "I, T, X, Y, Z, R, P, LENGTH, PATH, XSEC, XSEC_REL, DIST, ORDER, BREADTH, TOTLEN = range(15)"
   ]
  },
  {
   "cell_type": "code",
   "execution_count": 9,
   "id": "056ce0ab",
   "metadata": {},
   "outputs": [],
   "source": [
    "class DGram():\n",
    "    \"\"\"Neuron dendrogram representation.\"\"\"\n",
    "    graph = None\n",
    "    xdata = None\n",
    "    types = None\n",
    "    \n",
    "    def __init__(self, morph=None, types=SWC.TYPES, spread=1.0):\n",
    "        if morph:\n",
    "            graph = morph.copy()\n",
    "            for stem in graph.stems():\n",
    "                if stem.type() not in types:\n",
    "                    graph.prune(stem)\n",
    "            graph = Morph(data=graph.data)\n",
    "            self.graph = graph\n",
    "            self.xdata = get_segdata(graph)\n",
    "            self.types = types\n",
    "            for sec in self.graph.root.sections():\n",
    "                start_node = sec[0]\n",
    "                seclink = start_node.length()\n",
    "                secrad = self.graph.radii(sec).mean()\n",
    "                for node in sec:\n",
    "                    ident = node.ident()\n",
    "                    data = self.graph.data[ident-1]\n",
    "                    xdata = self.xdata[ident-1]\n",
    "                    data[X] = xdata[PATH]\n",
    "                    data[R] = secrad\n",
    "            self.graph.data[:, SWC.YZ] = 0.0\n",
    "            for stem in self.graph.stems():\n",
    "                for sec in stem.sections():\n",
    "                    start_node = sec[0]\n",
    "                    parent = start_node.parent\n",
    "                    shift = start_node.coord() - parent.coord()\n",
    "                    self.graph.translate(-shift, start_node)\n",
    "            for index,term in enumerate(self.graph.root.leaves(), start=1):\n",
    "                pos = index*spread\n",
    "                for node in term.walk(reverse=True):\n",
    "                    ident = node.ident()\n",
    "                    value = self.graph.data[ident-1]\n",
    "                    if node.is_fork() or node.is_root():\n",
    "                        pos = np.mean([x.coord()[1] for x in node.siblings])\n",
    "                    value[SWC.Y] = pos"
   ]
  },
  {
   "cell_type": "code",
   "execution_count": 10,
   "id": "a0469f94",
   "metadata": {},
   "outputs": [
    {
     "data": {
      "text/plain": [
       "(4.0, 4.0)"
      ]
     },
     "execution_count": 10,
     "metadata": {},
     "output_type": "execute_result"
    }
   ],
   "source": [
    "np.median(mbranches[:,3]), np.median(hbranches[:,3])"
   ]
  },
  {
   "cell_type": "code",
   "execution_count": 11,
   "id": "5a0b5c15",
   "metadata": {},
   "outputs": [
    {
     "data": {
      "text/plain": [
       "(4.382978723404255, 4.628571428571429, 4.0)"
      ]
     },
     "execution_count": 11,
     "metadata": {},
     "output_type": "execute_result"
    }
   ],
   "source": [
    "mbreadth = np.mean(mbranches[:,3])  #np.median(mbranches[:,3])\n",
    "hbreadth = np.mean(hbranches[:,3])  #np.median(hbranches[:,3])\n",
    "breadth = max(np.median(mbranches[:,3]), np.median(hbranches[:,3]))  #np.rint(max(mbreadth, hbreadth))\n",
    "(mbreadth, hbreadth, breadth)"
   ]
  },
  {
   "cell_type": "code",
   "execution_count": 12,
   "id": "a03fdfff",
   "metadata": {},
   "outputs": [
    {
     "data": {
      "text/plain": [
       "{1, 2, 3, 4, 5, 6, 7, 8, 9, 13}"
      ]
     },
     "execution_count": 12,
     "metadata": {},
     "output_type": "execute_result"
    }
   ],
   "source": [
    "mterms = set(mbranches[:,3])\n",
    "mterms"
   ]
  },
  {
   "cell_type": "code",
   "execution_count": 13,
   "id": "4f46cfb6",
   "metadata": {},
   "outputs": [
    {
     "data": {
      "text/plain": [
       "{1, 2, 3, 4, 5, 6, 7, 8, 15, 21}"
      ]
     },
     "execution_count": 13,
     "metadata": {},
     "output_type": "execute_result"
    }
   ],
   "source": [
    "hterms = set(hbranches[:,3])\n",
    "hterms"
   ]
  },
  {
   "cell_type": "code",
   "execution_count": 14,
   "id": "a4106bb1",
   "metadata": {},
   "outputs": [],
   "source": [
    "msel = mbranches[:, 3] == breadth\n",
    "hsel = hbranches[:, 3] == breadth\n",
    "mavg = mbranches[msel][-1]\n",
    "#havg = hbranches[hsel][-1]\n",
    "havg = hbranches[hsel][-5]"
   ]
  },
  {
   "cell_type": "code",
   "execution_count": 15,
   "id": "c93375ed",
   "metadata": {},
   "outputs": [],
   "source": [
    "mg = DGram(mavg[2], types=[SWC.DEND])"
   ]
  },
  {
   "cell_type": "code",
   "execution_count": 16,
   "id": "4f595826",
   "metadata": {},
   "outputs": [],
   "source": [
    "hg = DGram(havg[2], types=[SWC.DEND])"
   ]
  },
  {
   "cell_type": "code",
   "execution_count": 17,
   "id": "a246184d",
   "metadata": {},
   "outputs": [],
   "source": [
    "Set1 = mpl.colormaps.get_cmap('Set1')\n",
    "Pastel1 = mpl.colormaps.get_cmap('Pastel1')\n",
    "mcolor = Set1(0.0)\n",
    "hcolor = Set1(1.0/9)\n",
    "mcolor_light = Pastel1(0.0)\n",
    "hcolor_light = Pastel1(1.0/9)"
   ]
  },
  {
   "cell_type": "code",
   "execution_count": 18,
   "id": "d04d3d92",
   "metadata": {},
   "outputs": [],
   "source": [
    "def plot_dgram(dgram, ax=None, color='black', plot_soma=True):\n",
    "    if not ax:\n",
    "        fig, ax = plt.subplots()\n",
    "    \n",
    "    root = dgram.graph.root\n",
    "    if plot_soma:\n",
    "        x = [-root.diam(), 0]\n",
    "        y = [root.coord()[1]]*2\n",
    "        ax.plot(x, y, color=color)\n",
    "\n",
    "    for sec in root.sections():\n",
    "        x = [sec[0].coord()[0], sec[-1].coord()[0]]\n",
    "        y = [sec[0].coord()[1], sec[-1].coord()[1]]\n",
    "        ax.plot(x, y, color=color)\n",
    "\n",
    "    for stem in dgram.graph.stems():\n",
    "        x = [root.coord()[0], stem.coord()[0]]\n",
    "        y = [root.coord()[1], stem.coord()[1]]\n",
    "        ax.plot(x, y, color=color)\n",
    "    \n",
    "    for bif in dgram.graph.root.forks():\n",
    "        x = [bif.coord()[0], bif.siblings[0].coord()[0]]\n",
    "        y = [bif.coord()[1], bif.siblings[0].coord()[1]]\n",
    "        ax.plot(x, y, color=color)\n",
    "        x = [bif.coord()[0], bif.siblings[1].coord()[0]]\n",
    "        y = [bif.coord()[1], bif.siblings[1].coord()[1]]\n",
    "        ax.plot(x, y, color=color)\n",
    "\n",
    "    return ax"
   ]
  },
  {
   "cell_type": "code",
   "execution_count": 19,
   "id": "2c7b1e9f",
   "metadata": {},
   "outputs": [
    {
     "data": {
      "text/plain": [
       "(array(['../data/mouse/derived/sanitized/animal_5_n21_04102017_cel1-cor-san.swc',\n",
       "        301, <treem.morph.Morph object at 0x7f540a187760>, 4,\n",
       "        538.5186907154409], dtype=object),\n",
       " array(['../data/human/derived/sanitized/AB5_porta80A_cel17-cor-san.swc',\n",
       "        14, <treem.morph.Morph object at 0x7f54092b1ab0>, 4,\n",
       "        675.5537439796045], dtype=object))"
      ]
     },
     "execution_count": 19,
     "metadata": {},
     "output_type": "execute_result"
    },
    {
     "data": {
      "image/png": "[encoded data removed]",
      "text/plain": [
       "<Figure size 1000x300 with 2 Axes>"
      ]
     },
     "metadata": {},
     "output_type": "display_data"
    }
   ],
   "source": [
    "fig = plt.figure(figsize=(10,3))\n",
    "fig.suptitle('Average dendrite')\n",
    "\n",
    "ax = fig.add_subplot(1, 2, 1)\n",
    "ax.set_title(f'{breadth:.0f} terminals')\n",
    "plot_dgram(mg, ax, color=mcolor)\n",
    "ax.set_yticks([])\n",
    "ax.set_ylim(bottom=0, top=breadth+1)\n",
    "ax.spines.left.set_visible(False)\n",
    "ax.spines.right.set_visible(False)\n",
    "ax.spines.top.set_visible(False)\n",
    "ax.set_xlim(right=250)\n",
    "ax.set_xlabel('Dendrite length ($\\mu$m)');\n",
    "\n",
    "ax = fig.add_subplot(1, 2, 2)\n",
    "ax.set_title(f'{hg.xdata[0][BREADTH]:.0f} terminals')\n",
    "plot_dgram(hg, ax, color=hcolor)\n",
    "ax.set_yticks([])\n",
    "ax.set_ylim(bottom=0, top=breadth+1)\n",
    "ax.spines.left.set_visible(False)\n",
    "ax.spines.right.set_visible(False)\n",
    "ax.spines.top.set_visible(False)\n",
    "ax.set_xlim(right=250)\n",
    "ax.set_xlabel('Dendrite length ($\\mu$m)')\n",
    "\n",
    "fig.tight_layout();\n",
    "mavg, havg"
   ]
  },
  {
   "cell_type": "code",
   "execution_count": 20,
   "id": "05ac8b9d",
   "metadata": {},
   "outputs": [],
   "source": [
    "mmax = mbranches[-1]\n",
    "hmax = hbranches[-1]"
   ]
  },
  {
   "cell_type": "code",
   "execution_count": 21,
   "id": "798921db",
   "metadata": {},
   "outputs": [],
   "source": [
    "mg_max = DGram(mmax[2], types=[SWC.DEND])\n",
    "mbreadth_max = mg_max.xdata[0][BREADTH]"
   ]
  },
  {
   "cell_type": "code",
   "execution_count": 22,
   "id": "c47ad16a",
   "metadata": {},
   "outputs": [],
   "source": [
    "hg_max = DGram(hmax[2], types=[SWC.DEND])\n",
    "hbreadth_max = hg_max.xdata[0][BREADTH]"
   ]
  },
  {
   "cell_type": "code",
   "execution_count": 23,
   "id": "cce9f33d",
   "metadata": {},
   "outputs": [
    {
     "data": {
      "text/plain": [
       "(array(['../data/mouse/derived/sanitized/animal_5_n27_04102017_cel1-cor-san.swc',\n",
       "        457, <treem.morph.Morph object at 0x7f5409fd57e0>, 13,\n",
       "        1067.924523154747], dtype=object),\n",
       " array(['../data/human/derived/sanitized/AB6_porta32_cel2-cor-san.swc', 12,\n",
       "        <treem.morph.Morph object at 0x7f54091add20>, 21,\n",
       "        2044.244855881104], dtype=object))"
      ]
     },
     "execution_count": 23,
     "metadata": {},
     "output_type": "execute_result"
    },
    {
     "data": {
      "image/png": "[encoded data removed]",
      "text/plain": [
       "<Figure size 1000x500 with 2 Axes>"
      ]
     },
     "metadata": {},
     "output_type": "display_data"
    }
   ],
   "source": [
    "fig = plt.figure(figsize=(10,5))\n",
    "fig.suptitle('Maximal dendrite')\n",
    "\n",
    "ax = fig.add_subplot(1, 2, 1)\n",
    "ax.set_title(f'{mbreadth_max:.0f} terminals')\n",
    "plot_dgram(mg_max, ax, color=mcolor)\n",
    "ax.set_yticks([])\n",
    "ax.set_ylim(bottom=0, top=mbreadth_max+1)\n",
    "ax.spines.left.set_visible(False)\n",
    "ax.spines.right.set_visible(False)\n",
    "ax.spines.top.set_visible(False)\n",
    "ax.set_xlabel('Dendrite length ($\\mu$m)');\n",
    "\n",
    "ax = fig.add_subplot(1, 2, 2)\n",
    "ax.set_title(f'{hbreadth_max:.0f} terminals')\n",
    "plot_dgram(hg_max, ax, color=hcolor)\n",
    "ax.set_yticks([])\n",
    "ax.set_ylim(bottom=0, top=hbreadth_max+1)\n",
    "ax.spines.left.set_visible(False)\n",
    "ax.spines.right.set_visible(False)\n",
    "ax.spines.top.set_visible(False)\n",
    "ax.set_xlabel('Dendrite length ($\\mu$m)')\n",
    "\n",
    "fig.tight_layout();\n",
    "mmax, hmax"
   ]
  },
  {
   "cell_type": "code",
   "execution_count": 24,
   "id": "70209d98",
   "metadata": {
    "scrolled": true
   },
   "outputs": [],
   "source": [
    "mcells = list()\n",
    "\n",
    "for src in glob('../data/mouse/derived/postproc/*.swc'):\n",
    "    m = Morph(src)\n",
    "    for stem in m.stems():\n",
    "        if stem.type() == SWC.AXON:\n",
    "            m.prune(stem)\n",
    "    cell = Morph(data=m.data)\n",
    "    breadth = cell.root.breadth()\n",
    "    totlen = sum([x.length() for x in cell.root.walk() if x.type != SWC.SOMA])\n",
    "    mcells.append([src, cell, breadth, totlen])"
   ]
  },
  {
   "cell_type": "code",
   "execution_count": 25,
   "id": "682e0f23",
   "metadata": {},
   "outputs": [],
   "source": [
    "mcells = np.array(sorted(mcells, key=lambda x: (x[2], x[3])))"
   ]
  },
  {
   "cell_type": "code",
   "execution_count": 26,
   "id": "7625f8d2",
   "metadata": {
    "scrolled": true
   },
   "outputs": [],
   "source": [
    "hcells = list()\n",
    "\n",
    "for src in glob('../data/human/derived/postproc/*.swc'):\n",
    "    m = Morph(src)\n",
    "    for stem in m.stems():\n",
    "        if stem.type() == SWC.AXON:\n",
    "            m.prune(stem)\n",
    "    cell = Morph(data=m.data)\n",
    "    breadth = cell.root.breadth()\n",
    "    totlen = sum([x.length() for x in cell.root.walk() if x.type != SWC.SOMA])\n",
    "    hcells.append([src, cell, breadth, totlen])"
   ]
  },
  {
   "cell_type": "code",
   "execution_count": 27,
   "id": "5955ffb0",
   "metadata": {},
   "outputs": [],
   "source": [
    "hcells = np.array(sorted(hcells, key=lambda x: (x[2], x[3])))"
   ]
  },
  {
   "cell_type": "code",
   "execution_count": 28,
   "id": "8de655a9",
   "metadata": {},
   "outputs": [
    {
     "data": {
      "text/plain": [
       "(30.129032258064516, 33.22222222222222)"
      ]
     },
     "execution_count": 28,
     "metadata": {},
     "output_type": "execute_result"
    }
   ],
   "source": [
    "mcell_breadth = np.mean(mcells[:,slice(2,3)])  #np.median(mcells[:,slice(2,3)])\n",
    "hcell_breadth = np.mean(hcells[:,slice(2,3)])  #np.median(hcells[:,slice(2,3)])\n",
    "mcell_breadth, hcell_breadth"
   ]
  },
  {
   "cell_type": "code",
   "execution_count": 29,
   "id": "bc2e3ed2",
   "metadata": {},
   "outputs": [],
   "source": [
    "mcell_sel = mcells[:, 2] == np.rint(mcell_breadth)\n",
    "hcell_sel = hcells[:, 2] == np.ceil(hcell_breadth)\n",
    "mcell_avg = mcells[mcell_sel][-1]\n",
    "hcell_avg = hcells[hcell_sel][-1]"
   ]
  },
  {
   "cell_type": "code",
   "execution_count": 30,
   "id": "29124091",
   "metadata": {},
   "outputs": [],
   "source": [
    "mcell_g = DGram(mcell_avg[1], types=[SWC.DEND])"
   ]
  },
  {
   "cell_type": "code",
   "execution_count": 31,
   "id": "f74d9461",
   "metadata": {},
   "outputs": [],
   "source": [
    "hcell_g = DGram(hcell_avg[1], types=[SWC.DEND])"
   ]
  },
  {
   "cell_type": "code",
   "execution_count": 32,
   "id": "74daddf3",
   "metadata": {},
   "outputs": [
    {
     "data": {
      "text/plain": [
       "(array(['../data/mouse/derived/postproc/C57_ID103_nr21_cel2-cor-rep80-post.swc',\n",
       "        <treem.morph.Morph object at 0x7f540646cc40>, 30,\n",
       "        2489.7760632956893], dtype=object),\n",
       " array(['../data/human/derived/postproc/AB5_porta79_cel1-cor-rep69-post.swc',\n",
       "        <treem.morph.Morph object at 0x7f54050ad5a0>, 34, 5933.94381672072],\n",
       "       dtype=object))"
      ]
     },
     "execution_count": 32,
     "metadata": {},
     "output_type": "execute_result"
    },
    {
     "data": {
      "image/png": "[encoded data removed]",
      "text/plain": [
       "<Figure size 1000x600 with 2 Axes>"
      ]
     },
     "metadata": {},
     "output_type": "display_data"
    }
   ],
   "source": [
    "fig = plt.figure(figsize=(10,6))\n",
    "fig.suptitle('Average cell')\n",
    "\n",
    "ax = fig.add_subplot(1, 2, 1)\n",
    "ax.set_title(f'{mcell_breadth:.0f} terminals')\n",
    "plot_dgram(mcell_g, ax, color=mcolor)\n",
    "ax.set_yticks([])\n",
    "ax.set_ylim(bottom=0, top=mcell_breadth+1)\n",
    "ax.spines.left.set_visible(False)\n",
    "ax.spines.right.set_visible(False)\n",
    "ax.spines.top.set_visible(False)\n",
    "ax.set_xlim(right=300)\n",
    "ax.set_xlabel('Dendrite length ($\\mu$m)');\n",
    "\n",
    "ax = fig.add_subplot(1, 2, 2)\n",
    "ax.set_title(f'{hcell_breadth:.0f} terminals')\n",
    "plot_dgram(hcell_g, ax, color=hcolor)\n",
    "ax.set_yticks([])\n",
    "ax.set_ylim(bottom=0, top=hcell_breadth+1)\n",
    "ax.spines.left.set_visible(False)\n",
    "ax.spines.right.set_visible(False)\n",
    "ax.spines.top.set_visible(False)\n",
    "ax.set_xlim(right=300)\n",
    "ax.set_xlabel('Dendrite length ($\\mu$m)')\n",
    "\n",
    "fig.tight_layout();\n",
    "mcell_avg, hcell_avg"
   ]
  },
  {
   "cell_type": "code",
   "execution_count": 33,
   "id": "9d0ac9d1",
   "metadata": {},
   "outputs": [],
   "source": [
    "mcell_max = mcells[-1]\n",
    "hcell_max = hcells[-1]"
   ]
  },
  {
   "cell_type": "code",
   "execution_count": 34,
   "id": "c7a65d97",
   "metadata": {},
   "outputs": [],
   "source": [
    "mcell_g_max = DGram(mcell_max[1], types=[SWC.DEND])\n",
    "mcell_breadth_max = mcell_g_max.xdata[0][BREADTH]"
   ]
  },
  {
   "cell_type": "code",
   "execution_count": 35,
   "id": "5aaeddcf",
   "metadata": {},
   "outputs": [],
   "source": [
    "hcell_g_max = DGram(hcell_max[1], types=[SWC.DEND])\n",
    "hcell_breadth_max = hcell_g_max.xdata[0][BREADTH]"
   ]
  },
  {
   "cell_type": "code",
   "execution_count": 36,
   "id": "b94ec632",
   "metadata": {},
   "outputs": [
    {
     "data": {
      "text/plain": [
       "(46.0, 45.0)"
      ]
     },
     "execution_count": 36,
     "metadata": {},
     "output_type": "execute_result"
    }
   ],
   "source": [
    "mcell_breadth_max, hcell_breadth_max"
   ]
  },
  {
   "cell_type": "code",
   "execution_count": 37,
   "id": "540ce94f",
   "metadata": {},
   "outputs": [
    {
     "data": {
      "text/plain": [
       "(array(['../data/mouse/derived/postproc/C57_ID106_nr18_cel1-cor-rep17-post.swc',\n",
       "        <treem.morph.Morph object at 0x7f54061feaa0>, 46,\n",
       "        3724.601144758768], dtype=object),\n",
       " array(['../data/human/derived/postproc/AB5_porta80A_cel13-cor-rep42-post2.swc',\n",
       "        <treem.morph.Morph object at 0x7f54057c36a0>, 45,\n",
       "        7260.746196549739], dtype=object))"
      ]
     },
     "execution_count": 37,
     "metadata": {},
     "output_type": "execute_result"
    },
    {
     "data": {
      "image/png": "[encoded data removed]",
      "text/plain": [
       "<Figure size 1000x800 with 2 Axes>"
      ]
     },
     "metadata": {},
     "output_type": "display_data"
    }
   ],
   "source": [
    "fig = plt.figure(figsize=(10,8))\n",
    "fig.suptitle('Largest cell')\n",
    "\n",
    "ax = fig.add_subplot(1, 2, 1)\n",
    "ax.set_title(f'{mcell_breadth_max:.0f} terminals')\n",
    "plot_dgram(mcell_g_max, ax, color=mcolor)\n",
    "ax.set_yticks([])\n",
    "ax.set_ylim(bottom=0, top=mcell_breadth_max+3)\n",
    "ax.spines.left.set_visible(False)\n",
    "ax.spines.right.set_visible(False)\n",
    "ax.spines.top.set_visible(False)\n",
    "ax.set_xlabel('Dendrite length ($\\mu$m)');\n",
    "\n",
    "ax = fig.add_subplot(1, 2, 2)\n",
    "ax.set_title(f'{hcell_breadth_max:.0f} terminals')\n",
    "plot_dgram(hcell_g_max, ax, color=hcolor)\n",
    "ax.set_yticks([])\n",
    "ax.set_ylim(bottom=0, top=hcell_breadth_max+1)\n",
    "ax.spines.left.set_visible(False)\n",
    "ax.spines.right.set_visible(False)\n",
    "ax.spines.top.set_visible(False)\n",
    "ax.set_xlabel('Dendrite length ($\\mu$m)')\n",
    "\n",
    "fig.tight_layout();\n",
    "mcell_max, hcell_max"
   ]
  },
  {
   "cell_type": "code",
   "execution_count": 38,
   "id": "6a0f2baa",
   "metadata": {},
   "outputs": [
    {
     "name": "stdout",
     "output_type": "stream",
     "text": [
      "breadth=1 len(mbranches[msel])=8 len(hbranches[hsel])=4\n",
      "breadth=2 len(mbranches[msel])=4 len(hbranches[hsel])=4\n",
      "breadth=3 len(mbranches[msel])=6 len(hbranches[hsel])=9\n",
      "breadth=4 len(mbranches[msel])=9 len(hbranches[hsel])=6\n"
     ]
    },
    {
     "data": {
      "image/png": "[encoded data removed]",
      "text/plain": [
       "<Figure size 600x200 with 8 Axes>"
      ]
     },
     "metadata": {},
     "output_type": "display_data"
    }
   ],
   "source": [
    "fig = plt.figure(figsize=(6, 2))\n",
    "\n",
    "for i, breadth in enumerate([1, 2, 3, 4]):\n",
    "    msel = mbranches[:, 3] == breadth\n",
    "    hsel = hbranches[:, 3] == breadth\n",
    "    print(f'{breadth=} {len(mbranches[msel])=} {len(hbranches[hsel])=}')\n",
    "    \n",
    "    ax = fig.add_subplot(4, 2, 2*i+1)\n",
    "    mdend = mbranches[msel][-1]\n",
    "    mg = DGram(mdend[2], types=[SWC.DEND])\n",
    "    plot_dgram(mg, ax, color=mcolor, plot_soma=False)\n",
    "    ax.set_xlim(0, 310)\n",
    "    ax.set_axis_off()\n",
    "    \n",
    "    ax = fig.add_subplot(4, 2, 2*i+2)\n",
    "    hdend = hbranches[hsel][-1]\n",
    "    hg = DGram(hdend[2], types=[SWC.DEND])\n",
    "    plot_dgram(hg, ax, color=hcolor, plot_soma=False)\n",
    "    ax.set_xlim(0, 310)\n",
    "    ax.set_axis_off()\n",
    "\n",
    "fig.tight_layout()\n",
    "fig.savefig('images/dgram-1.pdf')"
   ]
  },
  {
   "cell_type": "code",
   "execution_count": 39,
   "id": "a4304c40",
   "metadata": {},
   "outputs": [
    {
     "name": "stdout",
     "output_type": "stream",
     "text": [
      "breadth=5 len(mbranches[msel])=6 len(hbranches[hsel])=2\n",
      "breadth=6 len(mbranches[msel])=4 len(hbranches[hsel])=5\n",
      "breadth=7 len(mbranches[msel])=4 len(hbranches[hsel])=1\n",
      "breadth=8 len(mbranches[msel])=4 len(hbranches[hsel])=2\n"
     ]
    },
    {
     "data": {
      "image/png": "[encoded data removed]",
      "text/plain": [
       "<Figure size 600x300 with 8 Axes>"
      ]
     },
     "metadata": {},
     "output_type": "display_data"
    }
   ],
   "source": [
    "fig = plt.figure(figsize=(6, 3))\n",
    "\n",
    "for i, breadth in enumerate([5, 6, 7, 8]):\n",
    "    msel = mbranches[:, 3] == breadth\n",
    "    hsel = hbranches[:, 3] == breadth\n",
    "    print(f'{breadth=} {len(mbranches[msel])=} {len(hbranches[hsel])=}')\n",
    "    \n",
    "    ax = fig.add_subplot(4, 2, 2*i+1)\n",
    "    if msel.any():\n",
    "        mdend = mbranches[msel][-1]\n",
    "        mg = DGram(mdend[2], types=[SWC.DEND])\n",
    "        plot_dgram(mg, ax, color=mcolor, plot_soma=False)\n",
    "    ax.set_xlim(0, 310)\n",
    "    ax.set_axis_off()\n",
    "    \n",
    "    ax = fig.add_subplot(4, 2, 2*i+2)\n",
    "    hdend = hbranches[hsel][-1]\n",
    "    hg = DGram(hdend[2], types=[SWC.DEND])\n",
    "    plot_dgram(hg, ax, color=hcolor, plot_soma=False)\n",
    "    ax.set_xlim(0, 310)\n",
    "    ax.set_axis_off()\n",
    "\n",
    "fig.tight_layout()\n",
    "fig.savefig('images/dgram-2.pdf')"
   ]
  },
  {
   "cell_type": "code",
   "execution_count": 40,
   "id": "278dbb2f",
   "metadata": {},
   "outputs": [
    {
     "name": "stdout",
     "output_type": "stream",
     "text": [
      "mbreadth=13 hbreadth=15 len(mbranches[msel])=1 len(hbranches[hsel])=1\n",
      "hbreadth=21 len(hbranches[hsel])=1\n"
     ]
    },
    {
     "data": {
      "image/png": "[encoded data removed]",
      "text/plain": [
       "<Figure size 600x400 with 4 Axes>"
      ]
     },
     "metadata": {},
     "output_type": "display_data"
    }
   ],
   "source": [
    "fig = plt.figure(figsize=(6, 4))\n",
    "\n",
    "if True:\n",
    "    mbreadth = 13\n",
    "    hbreadth = 15\n",
    "    msel = mbranches[:, 3] == mbreadth\n",
    "    hsel = hbranches[:, 3] == hbreadth\n",
    "    print(f'{mbreadth=} {hbreadth=} {len(mbranches[msel])=} {len(hbranches[hsel])=}')\n",
    "    \n",
    "    ax = fig.add_subplot(2, 2, 1)\n",
    "    mdend = mbranches[msel][-1]\n",
    "    mg = DGram(mdend[2], types=[SWC.DEND])\n",
    "    plot_dgram(mg, ax, color=mcolor, plot_soma=False)\n",
    "    ax.set_xlim(0, 310)\n",
    "    ax.set_axis_off()\n",
    "    \n",
    "    ax = fig.add_subplot(2, 2, 2)\n",
    "    hdend = hbranches[hsel][-1]\n",
    "    hg = DGram(hdend[2], types=[SWC.DEND])\n",
    "    plot_dgram(hg, ax, color=hcolor, plot_soma=False)\n",
    "    ax.set_xlim(0, 310)\n",
    "    ax.set_axis_off()\n",
    "\n",
    "if True:\n",
    "    hbreadth = 21\n",
    "    hsel = hbranches[:, 3] == hbreadth\n",
    "    print(f'{hbreadth=} {len(hbranches[hsel])=}')\n",
    "    \n",
    "    ax = fig.add_subplot(2, 2, 3)\n",
    "    ax.set_xlim(0, 310)\n",
    "    ax.set_yticks([])\n",
    "    ax.spines.left.set_visible(False)\n",
    "    ax.spines.right.set_visible(False)\n",
    "    ax.spines.top.set_visible(False)\n",
    "    ax.set_xlabel('Dendrite length ($\\mu$m)')\n",
    "    \n",
    "    ax = fig.add_subplot(2, 2, 4)\n",
    "    hdend = hbranches[hsel][-1]\n",
    "    hg = DGram(hdend[2], types=[SWC.DEND])\n",
    "    plot_dgram(hg, ax, color=hcolor, plot_soma=False)\n",
    "    ax.set_xlim(0, 310)\n",
    "    ax.set_yticks([])\n",
    "    ax.spines.left.set_visible(False)\n",
    "    ax.spines.right.set_visible(False)\n",
    "    ax.spines.top.set_visible(False)\n",
    "    ax.set_xlabel('Dendrite length ($\\mu$m)')\n",
    "\n",
    "fig.tight_layout()\n",
    "fig.savefig('images/dgram-3.pdf')"
   ]
  },
  {
   "cell_type": "code",
   "execution_count": null,
   "id": "d53bd651",
   "metadata": {},
   "outputs": [],
   "source": []
  }
 ],
 "metadata": {
  "kernelspec": {
   "display_name": "Python 3 (ipykernel)",
   "language": "python",
   "name": "python3"
  },
  "language_info": {
   "codemirror_mode": {
    "name": "ipython",
    "version": 3
   },
   "file_extension": ".py",
   "mimetype": "text/x-python",
   "name": "python",
   "nbconvert_exporter": "python",
   "pygments_lexer": "ipython3",
   "version": "3.10.15"
  }
 },
 "nbformat": 4,
 "nbformat_minor": 5
}
