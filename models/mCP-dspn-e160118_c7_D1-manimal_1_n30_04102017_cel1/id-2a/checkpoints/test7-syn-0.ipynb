{
 "cells": [
  {
   "cell_type": "code",
   "execution_count": 1,
   "id": "2f08b595",
   "metadata": {},
   "outputs": [],
   "source": [
    "import numpy as np\n",
    "import matplotlib as mpl\n",
    "import matplotlib.pyplot as plt"
   ]
  },
  {
   "cell_type": "code",
   "execution_count": 2,
   "id": "d1a85f7d",
   "metadata": {},
   "outputs": [],
   "source": [
    "%%capture\n",
    "!rm -rf x86_64\n",
    "!nrnivmodl ../mechanisms"
   ]
  },
  {
   "cell_type": "code",
   "execution_count": 3,
   "id": "554de47e",
   "metadata": {},
   "outputs": [],
   "source": [
    "from neuron import h\n",
    "h.load_file(\"stdrun.hoc\");"
   ]
  },
  {
   "cell_type": "code",
   "execution_count": 4,
   "id": "3b7fc4f8",
   "metadata": {},
   "outputs": [],
   "source": [
    "from glob import glob\n",
    "cellhocs = sorted(glob('Cell_*.hoc'))"
   ]
  },
  {
   "cell_type": "code",
   "execution_count": 5,
   "id": "6377fcf3",
   "metadata": {},
   "outputs": [],
   "source": [
    "isi = 1.0\n",
    "nsyn = 10\n",
    "amp = 0.400\n",
    "nmda_ratio = 2.0\n",
    "simtime = 1000\n",
    "stim_start = simtime / 2\n",
    "stim_end = stim_start + nsyn*isi"
   ]
  },
  {
   "cell_type": "code",
   "execution_count": 6,
   "id": "2fceeaf9",
   "metadata": {},
   "outputs": [],
   "source": [
    "def breadth(sec):\n",
    "    return len(sec.subtree())\n",
    "\n",
    "def is_terminal(sec):\n",
    "    return breadth(sec) == 1\n",
    "\n",
    "def is_stem(sec):\n",
    "    return 'soma' in str(sec.parentseg()) and not 'soma' in sec.name()\n",
    "\n",
    "def get_terminals(sec):\n",
    "    return [s for s in sec.subtree() if is_terminal(s)]\n",
    "\n",
    "def get_stems(sec):\n",
    "    return [s for s in sec.wholetree() if is_stem(s)]"
   ]
  },
  {
   "cell_type": "code",
   "execution_count": 7,
   "id": "41222c2b",
   "metadata": {},
   "outputs": [],
   "source": [
    "def lighten_color(color, amount=0.5):\n",
    "    \"\"\"\n",
    "    Lightens the given color by multiplying (1-luminosity) by the given amount.\n",
    "    Input can be matplotlib color string, hex string, or RGB tuple.\n",
    "    \n",
    "    Examples:\n",
    "    >> lighten_color('g', 0.3)\n",
    "    >> lighten_color('#F034A3', 0.6)\n",
    "    >> lighten_color((.3,.55,.1), 0.5)\n",
    "    \"\"\"\n",
    "    import matplotlib.colors as mc\n",
    "    import colorsys\n",
    "    try:\n",
    "        c = mc.cnames[color]\n",
    "    except:\n",
    "        c = color\n",
    "    c = np.array(colorsys.rgb_to_hls(*mc.to_rgb(c)))\n",
    "    return colorsys.hls_to_rgb(c[0],1-amount * (1-c[1]),c[2])"
   ]
  },
  {
   "cell_type": "code",
   "execution_count": 8,
   "id": "932db6c2",
   "metadata": {},
   "outputs": [],
   "source": [
    "def make_cell(hoc, morph=None):\n",
    "    h.load_file(hoc)\n",
    "    name = hoc.split('.')[0]\n",
    "    if morph:\n",
    "        cmd = f'h.{name}(\"../morphology/\", \"{morph}\")'\n",
    "    else:\n",
    "        cmd = f'h.{name}(\"../morphology/\")'  # default morphology\n",
    "    cell = eval(cmd)\n",
    "    return cell"
   ]
  },
  {
   "cell_type": "code",
   "execution_count": 9,
   "id": "2654590e",
   "metadata": {},
   "outputs": [],
   "source": [
    "cellhoc = cellhocs[0]\n",
    "cell = make_cell(cellhoc)"
   ]
  },
  {
   "cell_type": "code",
   "execution_count": 10,
   "id": "c91059b4",
   "metadata": {},
   "outputs": [],
   "source": [
    "soma = cell.soma[0]\n",
    "stim = h.IClamp(soma(0.5))\n",
    "stim.amp = amp\n",
    "stim.delay = 0\n",
    "stim.dur = simtime"
   ]
  },
  {
   "cell_type": "code",
   "execution_count": 11,
   "id": "81f5bbba",
   "metadata": {},
   "outputs": [],
   "source": [
    "dend_terms = sorted([sec for sec in get_terminals(cell.soma[0]) if 'dend' in sec.name()])\n",
    "sections = dend_terms[:1]"
   ]
  },
  {
   "cell_type": "code",
   "execution_count": 12,
   "id": "5b0fce21",
   "metadata": {},
   "outputs": [],
   "source": [
    "weight = 0.5e-3\n",
    "stimuli = []\n",
    "nsts = []\n",
    "cons = []\n",
    "syns = []\n",
    "for sec in sections:\n",
    "    for i, x in enumerate(np.linspace(0.49, 0.51, nsyn)):\n",
    "        ns = h.NetStim()\n",
    "        ns.number = 1\n",
    "        ns.start = stim_start + i*isi\n",
    "        syn = h.tmGlut(sec(x))\n",
    "        syn.nmda_ratio = nmda_ratio\n",
    "        nc = h.NetCon(ns, syn)\n",
    "        nc.weight[0] = weight\n",
    "        cons.append(nc)\n",
    "        syns.append(syn)\n",
    "        nsts.append(ns)\n",
    "        stimuli.append((cons, syns, nsts))"
   ]
  },
  {
   "cell_type": "code",
   "execution_count": 13,
   "id": "5aa563a1",
   "metadata": {},
   "outputs": [
    {
     "data": {
      "text/plain": [
       "Vector[2]"
      ]
     },
     "execution_count": 13,
     "metadata": {},
     "output_type": "execute_result"
    }
   ],
   "source": [
    "time = h.Vector()\n",
    "time.record(h._ref_t)"
   ]
  },
  {
   "cell_type": "code",
   "execution_count": 14,
   "id": "110f7e87",
   "metadata": {},
   "outputs": [
    {
     "data": {
      "text/plain": [
       "Vector[3]"
      ]
     },
     "execution_count": 14,
     "metadata": {},
     "output_type": "execute_result"
    }
   ],
   "source": [
    "term = sections[0]\n",
    "volt = h.Vector()\n",
    "volt.record(term(0.5)._ref_v)"
   ]
  },
  {
   "cell_type": "code",
   "execution_count": 15,
   "id": "4b849608",
   "metadata": {},
   "outputs": [
    {
     "data": {
      "text/plain": [
       "Vector[4]"
      ]
     },
     "execution_count": 15,
     "metadata": {},
     "output_type": "execute_result"
    }
   ],
   "source": [
    "soma_volt = h.Vector()\n",
    "soma_volt.record(soma(0.5)._ref_v)"
   ]
  },
  {
   "cell_type": "code",
   "execution_count": 16,
   "id": "86ac50eb",
   "metadata": {},
   "outputs": [],
   "source": [
    "h.v_init = -70  # -92.5\n",
    "h.celsius = 35\n",
    "h.tstop = simtime\n",
    "cvode = h.CVode()\n",
    "cvode.active(True)\n",
    "h.run();"
   ]
  },
  {
   "cell_type": "code",
   "execution_count": 18,
   "id": "d72f44be",
   "metadata": {},
   "outputs": [
    {
     "data": {
      "text/plain": [
       "[<matplotlib.lines.Line2D at 0x7fdd942e5240>]"
      ]
     },
     "execution_count": 18,
     "metadata": {},
     "output_type": "execute_result"
    },
    {
     "data": {
      "image/png": "[encoded data removed]",
      "text/plain": [
       "<Figure size 640x480 with 1 Axes>"
      ]
     },
     "metadata": {},
     "output_type": "display_data"
    }
   ],
   "source": [
    "t = np.array(time)\n",
    "v = np.array(volt)\n",
    "s = np.array(soma_volt)\n",
    "sel = (t > stim_start - 50)\n",
    "plt.plot(t[sel] - stim_start, v[sel])\n",
    "plt.plot(t[sel] - stim_start, s[sel])\n",
    "plt.plot([stim_start - stim_start, stim_end - stim_start], [v[sel][0]-2, v[sel][0]-2], 'k', lw=5)"
   ]
  },
  {
   "cell_type": "code",
   "execution_count": null,
   "id": "b08f1646",
   "metadata": {},
   "outputs": [],
   "source": []
  }
 ],
 "metadata": {
  "kernelspec": {
   "display_name": "Python 3 (ipykernel)",
   "language": "python",
   "name": "python3"
  },
  "language_info": {
   "codemirror_mode": {
    "name": "ipython",
    "version": 3
   },
   "file_extension": ".py",
   "mimetype": "text/x-python",
   "name": "python",
   "nbconvert_exporter": "python",
   "pygments_lexer": "ipython3",
   "version": "3.10.14"
  }
 },
 "nbformat": 4,
 "nbformat_minor": 5
}
