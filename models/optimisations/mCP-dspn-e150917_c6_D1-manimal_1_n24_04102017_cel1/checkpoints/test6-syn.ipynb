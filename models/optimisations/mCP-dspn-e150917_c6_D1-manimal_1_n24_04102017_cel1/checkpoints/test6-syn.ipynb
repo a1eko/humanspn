{
 "cells": [
  {
   "cell_type": "code",
   "execution_count": 1,
   "metadata": {},
   "outputs": [],
   "source": [
    "import numpy as np\n",
    "import matplotlib as mpl\n",
    "import matplotlib.pyplot as plt"
   ]
  },
  {
   "cell_type": "code",
   "execution_count": 2,
   "metadata": {},
   "outputs": [],
   "source": [
    "%%capture\n",
    "!rm -rf x86_64\n",
    "!nrnivmodl ../mechanisms"
   ]
  },
  {
   "cell_type": "code",
   "execution_count": 3,
   "metadata": {},
   "outputs": [],
   "source": [
    "from neuron import h\n",
    "h.load_file(\"stdrun.hoc\");"
   ]
  },
  {
   "cell_type": "code",
   "execution_count": 4,
   "metadata": {},
   "outputs": [
    {
     "data": {
      "text/plain": [
       "'Cell_0.hoc'"
      ]
     },
     "execution_count": 4,
     "metadata": {},
     "output_type": "execute_result"
    }
   ],
   "source": [
    "from glob import glob\n",
    "cellhocs = sorted(glob('Cell_*.hoc'))\n",
    "cellhoc = cellhocs[0]\n",
    "cellhoc"
   ]
  },
  {
   "cell_type": "code",
   "execution_count": 5,
   "metadata": {},
   "outputs": [],
   "source": [
    "nsweeps = 7\n",
    "rates = np.linspace(0., 30., nsweeps)\n",
    "simtime = 200 #500\n",
    "tottime = simtime * nsweeps"
   ]
  },
  {
   "cell_type": "code",
   "execution_count": 6,
   "metadata": {},
   "outputs": [],
   "source": [
    "def breadth(sec):\n",
    "    return len(sec.subtree())\n",
    "\n",
    "def is_terminal(sec):\n",
    "    return breadth(sec) == 1\n",
    "\n",
    "def is_stem(sec):\n",
    "    return 'soma' in str(sec.parentseg()) and not 'soma' in sec.name()\n",
    "\n",
    "def get_terminals(sec):\n",
    "    return [s for s in sec.subtree() if is_terminal(s)]\n",
    "\n",
    "def get_stems(sec):\n",
    "    return [s for s in sec.wholetree() if is_stem(s)]"
   ]
  },
  {
   "cell_type": "code",
   "execution_count": 7,
   "metadata": {},
   "outputs": [],
   "source": [
    "def lighten_color(color, amount=0.5):\n",
    "    \"\"\"\n",
    "    Lightens the given color by multiplying (1-luminosity) by the given amount.\n",
    "    Input can be matplotlib color string, hex string, or RGB tuple.\n",
    "    \n",
    "    Examples:\n",
    "    >> lighten_color('g', 0.3)\n",
    "    >> lighten_color('#F034A3', 0.6)\n",
    "    >> lighten_color((.3,.55,.1), 0.5)\n",
    "    \"\"\"\n",
    "    import matplotlib.colors as mc\n",
    "    import colorsys\n",
    "    try:\n",
    "        c = mc.cnames[color]\n",
    "    except:\n",
    "        c = color\n",
    "    c = np.array(colorsys.rgb_to_hls(*mc.to_rgb(c)))\n",
    "    return colorsys.hls_to_rgb(c[0],1-amount * (1-c[1]),c[2])"
   ]
  },
  {
   "cell_type": "code",
   "execution_count": 8,
   "metadata": {},
   "outputs": [],
   "source": [
    "def make_cell(hoc, morph=None):\n",
    "    h.load_file(hoc)\n",
    "    name = hoc.split('.')[0]\n",
    "    if morph:\n",
    "        cmd = f'h.{name}(\"../morphology/\", \"{morph}\")'\n",
    "    else:\n",
    "        cmd = f'h.{name}(\"../morphology/\")'  # default morphology\n",
    "    cell = eval(cmd)\n",
    "    return cell"
   ]
  },
  {
   "cell_type": "code",
   "execution_count": 9,
   "metadata": {},
   "outputs": [],
   "source": [
    "def make_nterm_cells(hoc, morph=None):\n",
    "    cell = make_cell(hoc, morph)\n",
    "    nterm = len([sec for sec in get_terminals(cell.soma[0]) if 'dend' in sec.name()])\n",
    "    cells = [make_cell(hoc, morph) for i in range(nterm)]\n",
    "    return cells"
   ]
  },
  {
   "cell_type": "code",
   "execution_count": 10,
   "metadata": {},
   "outputs": [],
   "source": [
    "cells = make_nterm_cells(cellhoc)\n",
    "#cells"
   ]
  },
  {
   "cell_type": "code",
   "execution_count": 11,
   "metadata": {},
   "outputs": [],
   "source": [
    "def set_syn_stim(rates, simtime, cell, seclist=[], nsyn=10, weight=0.5e-3):\n",
    "    stimuli = []\n",
    "    nsts = []\n",
    "    cons = []\n",
    "    syns = []\n",
    "    sections = seclist if seclist else np.random.choice(\n",
    "        [sec for sec in cell.soma[0].subtree() if 'dend' in sec.name()], 10)\n",
    "\n",
    "    for sec in sections:\n",
    "        for i, rate in enumerate(rates):\n",
    "            for x in np.linspace(0., 1., nsyn):\n",
    "                ns = h.NetStim()\n",
    "                ns.interval = 1 / rate * 1e3 if rate else 1e9\n",
    "                ns.noise = 1.0\n",
    "                ns.start = simtime * i\n",
    "                ns.number = int(simtime / ns.interval) + 1\n",
    "                syn = h.tmGlut(sec(x))\n",
    "                nc = h.NetCon(ns, syn)\n",
    "                nc.weight[0] = weight\n",
    "                cons.append(nc)\n",
    "                syns.append(syn)\n",
    "                nsts.append(ns)\n",
    "                stimuli.append((cons, syns, nsts))\n",
    "    \n",
    "    return stimuli"
   ]
  },
  {
   "cell_type": "code",
   "execution_count": 12,
   "metadata": {},
   "outputs": [],
   "source": [
    "def set_term_syn(rates, simtime, cells, nsyn=10, weight=0.5e-3):\n",
    "    synstimuli = []\n",
    "    for i, cell in enumerate(cells):\n",
    "        dend_terms = sorted([sec for sec in get_terminals(cell.soma[0]) if 'dend' in sec.name()])\n",
    "        term = dend_terms[i]\n",
    "        stimuli = set_syn_stim(rates, simtime, cell, [term], nsyn, weight)\n",
    "        synstimuli.append(stimuli)\n",
    "    return synstimuli"
   ]
  },
  {
   "cell_type": "code",
   "execution_count": 13,
   "metadata": {},
   "outputs": [],
   "source": [
    "def set_term_stim(amp, cells):\n",
    "    stimuli = []\n",
    "    for i, cell in enumerate(cells):\n",
    "        dend_tips = sorted([sec for sec in get_terminals(cell.soma[0]) if 'dend' in sec.name()])\n",
    "        tip = dend_tips[i]\n",
    "        stim = h.IClamp(tip(1.0))\n",
    "        stim.amp = amp\n",
    "        stim.delay = stim_start\n",
    "        stim.dur = stim_end - stim_start\n",
    "        stimuli.append(stim)\n",
    "    return stimuli"
   ]
  },
  {
   "cell_type": "code",
   "execution_count": 14,
   "metadata": {},
   "outputs": [],
   "source": [
    "def get_term_volts(cells, x=1.0):\n",
    "    volts = []\n",
    "    for i, cell in enumerate(cells):\n",
    "        dend_tips = sorted([sec for sec in get_terminals(cell.soma[0]) if 'dend' in sec.name()])\n",
    "        volt = h.Vector()\n",
    "        volt.record(dend_tips[i](x)._ref_v)\n",
    "        volts.append(volt)\n",
    "    return volts"
   ]
  },
  {
   "cell_type": "code",
   "execution_count": 15,
   "metadata": {},
   "outputs": [],
   "source": [
    "def get_soma_volts(cells):\n",
    "    volts = []\n",
    "    for i, cell in enumerate(cells):\n",
    "        volt = h.Vector()\n",
    "        volt.record(cell.soma[0](0.5)._ref_v)\n",
    "        volts.append(volt)\n",
    "    return volts"
   ]
  },
  {
   "cell_type": "code",
   "execution_count": 16,
   "metadata": {},
   "outputs": [],
   "source": [
    "synstimuli = set_term_syn(rates, simtime, cells, nsyn=10, weight=0.5e-3)"
   ]
  },
  {
   "cell_type": "code",
   "execution_count": 17,
   "metadata": {},
   "outputs": [],
   "source": [
    "volts = get_term_volts(cells, x=0.5)\n",
    "soma_volts = get_soma_volts(cells)"
   ]
  },
  {
   "cell_type": "code",
   "execution_count": 18,
   "metadata": {},
   "outputs": [
    {
     "data": {
      "text/plain": [
       "Vector[8098]"
      ]
     },
     "execution_count": 18,
     "metadata": {},
     "output_type": "execute_result"
    }
   ],
   "source": [
    "time = h.Vector()\n",
    "time.record(h._ref_t)"
   ]
  },
  {
   "cell_type": "code",
   "execution_count": 19,
   "metadata": {},
   "outputs": [
    {
     "name": "stdout",
     "output_type": "stream",
     "text": [
      "CPU times: user 8min 37s, sys: 2.06 s, total: 8min 39s\n",
      "Wall time: 8min 36s\n"
     ]
    },
    {
     "data": {
      "text/plain": [
       "0.0"
      ]
     },
     "execution_count": 19,
     "metadata": {},
     "output_type": "execute_result"
    }
   ],
   "source": [
    "%%time\n",
    "h.v_init = -92.5\n",
    "h.celsius = 35\n",
    "h.tstop = tottime\n",
    "cvode = h.CVode()\n",
    "cvode.active(True)\n",
    "cvode.atol(cvode.atol() * 10)\n",
    "h.run()"
   ]
  },
  {
   "cell_type": "code",
   "execution_count": 20,
   "metadata": {},
   "outputs": [],
   "source": [
    "def get_traces(time, volt, step):\n",
    "    traces = []\n",
    "    start = 0.0\n",
    "    end = start + step\n",
    "    sel = (time >= start) * (time < end)\n",
    "    while time[sel].any():\n",
    "        trace = {}\n",
    "        trace['T'] = time[sel] - start\n",
    "        trace['V'] = volt[sel]\n",
    "        trace['stim_start'] = [0.0]\n",
    "        trace['stim_end'] = [step]\n",
    "        if len(trace['T']) > 1:\n",
    "            traces.append(trace)\n",
    "        start += step\n",
    "        end += step\n",
    "        sel = (time >= start) * (time < end)\n",
    "    return np.array(traces)"
   ]
  },
  {
   "cell_type": "code",
   "execution_count": 21,
   "metadata": {},
   "outputs": [],
   "source": [
    "dvolts = []\n",
    "for volt in volts:\n",
    "    dtraces = get_traces(np.array(time), np.array(volt), simtime)\n",
    "    dvolts.append([trace['V'].mean() for trace in dtraces])\n",
    "dvolts = np.array(dvolts).T"
   ]
  },
  {
   "cell_type": "code",
   "execution_count": 22,
   "metadata": {},
   "outputs": [],
   "source": [
    "svolts = []\n",
    "for volt in soma_volts:\n",
    "    dtraces = get_traces(np.array(time), np.array(volt), simtime)\n",
    "    svolts.append([trace['V'].mean() for trace in dtraces])\n",
    "svolts = np.array(svolts).T"
   ]
  },
  {
   "cell_type": "code",
   "execution_count": 23,
   "metadata": {},
   "outputs": [],
   "source": [
    "ddeps = dvolts - dvolts[0]\n",
    "sdeps = svolts - svolts[0]"
   ]
  },
  {
   "cell_type": "code",
   "execution_count": 24,
   "metadata": {},
   "outputs": [
    {
     "data": {
      "image/png": "[encoded data removed]",
      "text/plain": [
       "<Figure size 400x600 with 2 Axes>"
      ]
     },
     "metadata": {},
     "output_type": "display_data"
    }
   ],
   "source": [
    "fig = plt.figure(figsize=(4, 6))\n",
    "gs = fig.add_gridspec(3, 1)\n",
    "\n",
    "dcolor = lighten_color('crimson')\n",
    "scolor = 'darkred'\n",
    "\n",
    "ax = fig.add_subplot(gs[:1])\n",
    "\n",
    "t = np.array(time)\n",
    "\n",
    "_label = True\n",
    "for v in volts:\n",
    "    label = 'dendrites' if _label else ''\n",
    "    ax.plot(t, v, color=dcolor, label=label)\n",
    "    _label = False\n",
    "\n",
    "_label = True\n",
    "for s in soma_volts:\n",
    "    label = 'soma' if _label else ''\n",
    "    ax.plot(t, s, color=scolor, label=label)\n",
    "    _label = False\n",
    "    \n",
    "ax.set_xlabel('Time (ms)')\n",
    "ax.set_ylabel('Voltage (mV)')\n",
    "ax.set_xlim(0, tottime)\n",
    "ax.set_ylim(top=0)\n",
    "ax.legend()\n",
    "\n",
    "ax = fig.add_subplot(gs[1:])\n",
    "\n",
    "ax.plot(rates, [v.mean() for v in ddeps], 'o-', color=dcolor, label='dendrites')\n",
    "ax.errorbar(rates, [v.mean() for v in ddeps], [v.std() for v in ddeps], \n",
    "            color=dcolor, linewidth=2, capsize=6)\n",
    "\n",
    "ax.plot(rates, [s.mean() for s in sdeps], '.-', color=scolor, label='soma')\n",
    "ax.errorbar(rates, [s.mean() for s in sdeps], [s.std() for s in sdeps], \n",
    "            color=scolor, linewidth=2, capsize=6)\n",
    "\n",
    "ax.set_xlim(left=rates[0])\n",
    "ax.set_ylim(bottom=0, top=80)\n",
    "ax.set_ylabel('Depolarization (mV)')\n",
    "ax.set_xlabel('Input rate (Hz)')\n",
    "ax.legend()\n",
    "\n",
    "fig.tight_layout()\n",
    "fig.savefig('images/test6-syn-1.pdf')"
   ]
  },
  {
   "cell_type": "code",
   "execution_count": null,
   "metadata": {},
   "outputs": [],
   "source": []
  }
 ],
 "metadata": {
  "kernelspec": {
   "display_name": "Python 3 (ipykernel)",
   "language": "python",
   "name": "python3"
  },
  "language_info": {
   "codemirror_mode": {
    "name": "ipython",
    "version": 3
   },
   "file_extension": ".py",
   "mimetype": "text/x-python",
   "name": "python",
   "nbconvert_exporter": "python",
   "pygments_lexer": "ipython3",
   "version": "3.10.16"
  }
 },
 "nbformat": 4,
 "nbformat_minor": 2
}
