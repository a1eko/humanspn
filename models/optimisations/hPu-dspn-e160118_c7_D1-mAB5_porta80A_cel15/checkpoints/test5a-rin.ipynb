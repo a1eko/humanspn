{
 "cells": [
  {
   "cell_type": "code",
   "execution_count": 1,
   "metadata": {},
   "outputs": [],
   "source": [
    "import numpy as np\n",
    "import matplotlib as mpl\n",
    "import matplotlib.pyplot as plt"
   ]
  },
  {
   "cell_type": "code",
   "execution_count": 2,
   "metadata": {},
   "outputs": [],
   "source": [
    "%%capture\n",
    "!rm -rf x86_64\n",
    "!nrnivmodl ../mechanisms"
   ]
  },
  {
   "cell_type": "code",
   "execution_count": 3,
   "metadata": {},
   "outputs": [],
   "source": [
    "from neuron import h\n",
    "h.load_file(\"stdrun.hoc\");"
   ]
  },
  {
   "cell_type": "code",
   "execution_count": 4,
   "metadata": {},
   "outputs": [],
   "source": [
    "from glob import glob\n",
    "cellhocs = sorted(glob('Cell_*.hoc'))\n",
    "cellhoc = cellhocs[0]"
   ]
  },
  {
   "cell_type": "code",
   "execution_count": 5,
   "metadata": {},
   "outputs": [],
   "source": [
    "simtime = 1000\n",
    "stim_start = simtime / 2\n",
    "stim_end = simtime\n",
    "amp = 0.010"
   ]
  },
  {
   "cell_type": "code",
   "execution_count": 6,
   "metadata": {},
   "outputs": [],
   "source": [
    "def breadth(sec):\n",
    "    return len(sec.subtree())\n",
    "\n",
    "def is_terminal(sec):\n",
    "    return breadth(sec) == 1\n",
    "\n",
    "def is_stem(sec):\n",
    "    return 'soma' in str(sec.parentseg()) and not 'soma' in sec.name()\n",
    "\n",
    "def get_terminals(sec):\n",
    "    return [s for s in sec.subtree() if is_terminal(s)]\n",
    "\n",
    "def get_stems(sec):\n",
    "    return [s for s in sec.wholetree() if is_stem(s)]"
   ]
  },
  {
   "cell_type": "code",
   "execution_count": 7,
   "metadata": {},
   "outputs": [],
   "source": [
    "def lighten_color(color, amount=0.5):\n",
    "    \"\"\"\n",
    "    Lightens the given color by multiplying (1-luminosity) by the given amount.\n",
    "    Input can be matplotlib color string, hex string, or RGB tuple.\n",
    "    \n",
    "    Examples:\n",
    "    >> lighten_color('g', 0.3)\n",
    "    >> lighten_color('#F034A3', 0.6)\n",
    "    >> lighten_color((.3,.55,.1), 0.5)\n",
    "    \"\"\"\n",
    "    import matplotlib.colors as mc\n",
    "    import colorsys\n",
    "    try:\n",
    "        c = mc.cnames[color]\n",
    "    except:\n",
    "        c = color\n",
    "    c = np.array(colorsys.rgb_to_hls(*mc.to_rgb(c)))\n",
    "    return colorsys.hls_to_rgb(c[0],1-amount * (1-c[1]),c[2])"
   ]
  },
  {
   "cell_type": "code",
   "execution_count": 8,
   "metadata": {},
   "outputs": [],
   "source": [
    "def make_cell(hoc, morph=None):\n",
    "    h.load_file(hoc)\n",
    "    name = hoc.split('.')[0]\n",
    "    if morph:\n",
    "        cmd = f'h.{name}(\"../morphology/\", \"{morph}\")'\n",
    "    else:\n",
    "        cmd = f'h.{name}(\"../morphology/\")'  # default morphology\n",
    "    cell = eval(cmd)\n",
    "    return cell"
   ]
  },
  {
   "cell_type": "code",
   "execution_count": 9,
   "metadata": {},
   "outputs": [],
   "source": [
    "def make_nterm_cells(hoc, morph=None):\n",
    "    cell = make_cell(hoc, morph)\n",
    "    nterm = len([sec for sec in get_terminals(cell.soma[0]) if 'dend' in sec.name()])\n",
    "    cells = [make_cell(hoc, morph) for i in range(nterm)]\n",
    "    return cells"
   ]
  },
  {
   "cell_type": "code",
   "execution_count": 10,
   "metadata": {},
   "outputs": [],
   "source": [
    "def make_nstem_cells(hoc, morph=None):\n",
    "    cell = make_cell(hoc, morph)\n",
    "    nstem = len([sec for sec in get_stems(cell.soma[0]) if 'dend' in sec.name()])\n",
    "    cells = [make_cell(hoc, morph) for i in range(nstem)]\n",
    "    return cells"
   ]
  },
  {
   "cell_type": "code",
   "execution_count": 11,
   "metadata": {},
   "outputs": [
    {
     "data": {
      "text/plain": [
       "[Cell_0[1], Cell_0[2], Cell_0[3], Cell_0[4], Cell_0[5], Cell_0[6]]"
      ]
     },
     "execution_count": 11,
     "metadata": {},
     "output_type": "execute_result"
    }
   ],
   "source": [
    "cells = make_nstem_cells(cellhoc)\n",
    "cells"
   ]
  },
  {
   "cell_type": "code",
   "execution_count": 12,
   "metadata": {},
   "outputs": [],
   "source": [
    "def set_term_stim(amp, cells):\n",
    "    stimuli = []\n",
    "    for i, cell in enumerate(cells):\n",
    "        dend_tips = sorted([sec for sec in get_terminals(cell.soma[0]) if 'dend' in sec.name()])\n",
    "        tip = dend_tips[i]\n",
    "        stim = h.IClamp(tip(1.0))\n",
    "        stim.amp = amp\n",
    "        stim.delay = stim_start\n",
    "        stim.dur = stim_end - stim_start\n",
    "        stimuli.append(stim)\n",
    "    return stimuli"
   ]
  },
  {
   "cell_type": "code",
   "execution_count": 13,
   "metadata": {},
   "outputs": [],
   "source": [
    "def set_stem_stim(amp, cells):\n",
    "    stimuli = []\n",
    "    for i, cell in enumerate(cells):\n",
    "        dend_stems = sorted([sec for sec in get_stems(cell.soma[0]) if 'dend' in sec.name()])\n",
    "        stem = dend_stems[i]\n",
    "        stim = h.IClamp(stem(0.5))\n",
    "        stim.amp = amp\n",
    "        stim.delay = stim_start\n",
    "        stim.dur = stim_end - stim_start\n",
    "        stimuli.append(stim)\n",
    "    return stimuli"
   ]
  },
  {
   "cell_type": "code",
   "execution_count": 14,
   "metadata": {},
   "outputs": [],
   "source": [
    "def get_term_volts(cells):\n",
    "    volts = []\n",
    "    for i, cell in enumerate(cells):\n",
    "        dend_tips = sorted([sec for sec in get_terminals(cell.soma[0]) if 'dend' in sec.name()])\n",
    "        volt = h.Vector()\n",
    "        volt.record(dend_tips[i](1.0)._ref_v)\n",
    "        volts.append(volt)\n",
    "    return volts"
   ]
  },
  {
   "cell_type": "code",
   "execution_count": 15,
   "metadata": {},
   "outputs": [],
   "source": [
    "def get_stem_volts(cells):\n",
    "    volts = []\n",
    "    for i, cell in enumerate(cells):\n",
    "        dend_stems = sorted([sec for sec in get_stems(cell.soma[0]) if 'dend' in sec.name()])\n",
    "        volt = h.Vector()\n",
    "        volt.record(dend_stems[i](0.5)._ref_v)\n",
    "        volts.append(volt)\n",
    "    return volts"
   ]
  },
  {
   "cell_type": "code",
   "execution_count": 16,
   "metadata": {},
   "outputs": [],
   "source": [
    "def get_soma_volts(cells):\n",
    "    volts = []\n",
    "    for i, cell in enumerate(cells):\n",
    "        volt = h.Vector()\n",
    "        volt.record(cell.soma[0](0.5)._ref_v)\n",
    "        volts.append(volt)\n",
    "    return volts"
   ]
  },
  {
   "cell_type": "code",
   "execution_count": 17,
   "metadata": {},
   "outputs": [],
   "source": [
    "stimuli = set_stem_stim(amp, cells)"
   ]
  },
  {
   "cell_type": "code",
   "execution_count": 18,
   "metadata": {},
   "outputs": [],
   "source": [
    "volts = get_stem_volts(cells)\n",
    "soma_volts = get_soma_volts(cells)"
   ]
  },
  {
   "cell_type": "code",
   "execution_count": 19,
   "metadata": {},
   "outputs": [
    {
     "data": {
      "text/plain": [
       "Vector[3578]"
      ]
     },
     "execution_count": 19,
     "metadata": {},
     "output_type": "execute_result"
    }
   ],
   "source": [
    "time = h.Vector()\n",
    "time.record(h._ref_t)"
   ]
  },
  {
   "cell_type": "code",
   "execution_count": 20,
   "metadata": {},
   "outputs": [
    {
     "data": {
      "text/plain": [
       "0.0"
      ]
     },
     "execution_count": 20,
     "metadata": {},
     "output_type": "execute_result"
    }
   ],
   "source": [
    "h.v_init = -92.5\n",
    "h.celsius = 35\n",
    "h.tstop = simtime\n",
    "cvode = h.CVode()\n",
    "cvode.active(True)\n",
    "h.dt = 0.025\n",
    "h.run()"
   ]
  },
  {
   "cell_type": "code",
   "execution_count": 21,
   "metadata": {},
   "outputs": [
    {
     "data": {
      "image/png": "[encoded data removed]",
      "text/plain": [
       "<Figure size 800x400 with 3 Axes>"
      ]
     },
     "metadata": {},
     "output_type": "display_data"
    }
   ],
   "source": [
    "fig = plt.figure(figsize=(8, 4))\n",
    "\n",
    "gs = fig.add_gridspec(1, 4)\n",
    "ax = fig.add_subplot(gs[:2])\n",
    "\n",
    "rin = []\n",
    "att = []\n",
    "color = 'darkblue'\n",
    "for volt, soma_volt in zip(volts, soma_volts):\n",
    "    ax.plot(time, volt, color=color, linewidth=2, alpha=0.75)\n",
    "    ax.set_xlabel('Time (ms)')\n",
    "    ax.set_ylabel('Local membrane potential (mV)')\n",
    "    color = lighten_color(color, 0.75)\n",
    "    t = np.array(time)\n",
    "    v = np.array(volt)\n",
    "    s = np.array(soma_volt)\n",
    "    sel = (t > simtime/2 *0.5) * (t < simtime/2)\n",
    "    v1 = v[sel].mean()\n",
    "    s1 = s[sel].mean()\n",
    "    sel = (t > simtime *0.75)\n",
    "    v2 = v[sel].mean()\n",
    "    s2 = s[sel].mean()\n",
    "    rin.append(abs((v2 - v1) / amp))\n",
    "    att.append(abs((v2 - v1) / (s2 - s1)))\n",
    "\n",
    "ax = fig.add_subplot(gs[2:3])\n",
    "\n",
    "meanprops = dict(marker='o', markersize=10, markerfacecolor='royalblue', markeredgecolor='w')\n",
    "medianprops = dict(color='k')\n",
    "flierprops = dict(marker='o', markerfacecolor=lighten_color('royalblue'), markersize=10, markeredgecolor='w')\n",
    "capprops = dict(color='royalblue', linewidth=2)\n",
    "boxprops = dict(color='royalblue', linewidth=2)\n",
    "whiskerprops = dict(color='royalblue', linewidth=2)\n",
    "ax.boxplot(rin, showmeans=True, widths=0.5, \n",
    "           boxprops=boxprops, whiskerprops=whiskerprops, meanprops=meanprops, medianprops=medianprops, \n",
    "           flierprops=flierprops, capprops=capprops)\n",
    "\n",
    "ax.set_xticks([])\n",
    "ax.spines[['right', 'top', 'bottom']].set_visible(False)\n",
    "ax.set_ylabel('Local input resistance (M$\\Omega$)')\n",
    "\n",
    "ax = fig.add_subplot(gs[-1:])\n",
    "\n",
    "ax.boxplot(att, showmeans=True, widths=0.5, \n",
    "           boxprops=boxprops, whiskerprops=whiskerprops, meanprops=meanprops, medianprops=medianprops, \n",
    "           flierprops=flierprops, capprops=capprops)\n",
    "\n",
    "ax.set_xticks([])\n",
    "ax.spines[['right', 'top', 'bottom']].set_visible(False)\n",
    "ax.set_ylabel('Voltage attenuation')\n",
    "\n",
    "fig.tight_layout()"
   ]
  },
  {
   "cell_type": "code",
   "execution_count": null,
   "metadata": {},
   "outputs": [],
   "source": []
  }
 ],
 "metadata": {
  "kernelspec": {
   "display_name": "Python 3 (ipykernel)",
   "language": "python",
   "name": "python3"
  },
  "language_info": {
   "codemirror_mode": {
    "name": "ipython",
    "version": 3
   },
   "file_extension": ".py",
   "mimetype": "text/x-python",
   "name": "python",
   "nbconvert_exporter": "python",
   "pygments_lexer": "ipython3",
   "version": "3.10.14"
  }
 },
 "nbformat": 4,
 "nbformat_minor": 2
}
