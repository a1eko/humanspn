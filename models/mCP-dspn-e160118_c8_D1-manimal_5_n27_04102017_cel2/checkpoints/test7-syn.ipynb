{
 "cells": [
  {
   "cell_type": "code",
   "execution_count": 1,
   "id": "2f08b595",
   "metadata": {},
   "outputs": [],
   "source": [
    "import numpy as np\n",
    "import matplotlib as mpl\n",
    "import matplotlib.pyplot as plt"
   ]
  },
  {
   "cell_type": "code",
   "execution_count": 2,
   "id": "d1a85f7d",
   "metadata": {},
   "outputs": [],
   "source": [
    "%%capture\n",
    "!rm -rf x86_64\n",
    "!nrnivmodl ../mechanisms"
   ]
  },
  {
   "cell_type": "code",
   "execution_count": 3,
   "id": "554de47e",
   "metadata": {},
   "outputs": [],
   "source": [
    "from neuron import h\n",
    "h.load_file(\"stdrun.hoc\");"
   ]
  },
  {
   "cell_type": "code",
   "execution_count": 4,
   "id": "3b7fc4f8",
   "metadata": {},
   "outputs": [],
   "source": [
    "from glob import glob\n",
    "#cellhocs = sorted(glob('Cell_*.hoc'))  #  0,1,2,[3,]4,5,[6,](7,)(8,)9\n",
    "#cellhocs = sorted(glob('Cell_[01245789].hoc'))\n",
    "cellhocs = sorted(glob('Cell_0.hoc'))"
   ]
  },
  {
   "cell_type": "code",
   "execution_count": 5,
   "id": "6377fcf3",
   "metadata": {},
   "outputs": [],
   "source": [
    "isi = 1.0\n",
    "nsyn = 10\n",
    "amp = 0.525\n",
    "weight = 0.5e-3\n",
    "nmda_ratio = 1.5  #2.0\n",
    "simtime = 1000\n",
    "stim_start = simtime / 2\n",
    "stim_end = stim_start + nsyn*isi"
   ]
  },
  {
   "cell_type": "code",
   "execution_count": 6,
   "id": "2fceeaf9",
   "metadata": {},
   "outputs": [],
   "source": [
    "def breadth(sec):\n",
    "    return len(sec.subtree())\n",
    "\n",
    "def is_terminal(sec):\n",
    "    return breadth(sec) == 1\n",
    "\n",
    "def is_stem(sec):\n",
    "    return 'soma' in str(sec.parentseg()) and not 'soma' in sec.name()\n",
    "\n",
    "def get_terminals(sec):\n",
    "    return [s for s in sec.subtree() if is_terminal(s)]\n",
    "\n",
    "def get_stems(sec):\n",
    "    return [s for s in sec.wholetree() if is_stem(s)]"
   ]
  },
  {
   "cell_type": "code",
   "execution_count": 7,
   "id": "41222c2b",
   "metadata": {},
   "outputs": [],
   "source": [
    "def lighten_color(color, amount=0.5):\n",
    "    \"\"\"\n",
    "    Lightens the given color by multiplying (1-luminosity) by the given amount.\n",
    "    Input can be matplotlib color string, hex string, or RGB tuple.\n",
    "    \n",
    "    Examples:\n",
    "    >> lighten_color('g', 0.3)\n",
    "    >> lighten_color('#F034A3', 0.6)\n",
    "    >> lighten_color((.3,.55,.1), 0.5)\n",
    "    \"\"\"\n",
    "    import matplotlib.colors as mc\n",
    "    import colorsys\n",
    "    try:\n",
    "        c = mc.cnames[color]\n",
    "    except:\n",
    "        c = color\n",
    "    c = np.array(colorsys.rgb_to_hls(*mc.to_rgb(c)))\n",
    "    return colorsys.hls_to_rgb(c[0],1-amount * (1-c[1]),c[2])"
   ]
  },
  {
   "cell_type": "code",
   "execution_count": 8,
   "id": "932db6c2",
   "metadata": {},
   "outputs": [],
   "source": [
    "def make_cell(hoc, morph=None):\n",
    "    h.load_file(hoc)\n",
    "    name = hoc.split('.')[0]\n",
    "    if morph:\n",
    "        cmd = f'h.{name}(\"../morphology/\", \"{morph}\")'\n",
    "    else:\n",
    "        cmd = f'h.{name}(\"../morphology/\")'  # default morphology\n",
    "    cell = eval(cmd)\n",
    "    return cell"
   ]
  },
  {
   "cell_type": "code",
   "execution_count": 9,
   "id": "3cf4d64e",
   "metadata": {},
   "outputs": [],
   "source": [
    "def make_nterm_cells(hoc, morph=None):\n",
    "    cell = make_cell(hoc, morph)\n",
    "    nterm = len([sec for sec in get_terminals(cell.soma[0]) if 'dend' in sec.name()])\n",
    "    cells = [make_cell(hoc, morph) for i in range(nterm)]\n",
    "    return cells"
   ]
  },
  {
   "cell_type": "code",
   "execution_count": 10,
   "id": "724226a6",
   "metadata": {},
   "outputs": [],
   "source": [
    "def set_syn_stim_cluster(stimtime, cell, seclist=[], nsyn=10, weight=0.5e-3, nmda_ratio=0.5):\n",
    "    stimuli = []\n",
    "    nsts = []\n",
    "    cons = []\n",
    "    syns = []\n",
    "    sections = seclist if seclist else np.random.choice(\n",
    "        [sec for sec in cell.soma[0].subtree() if 'dend' in sec.name()], 10)\n",
    "\n",
    "    for sec in sections:\n",
    "        for i, x in enumerate(np.linspace(0.49, 0.51, nsyn)):\n",
    "            ns = h.NetStim()\n",
    "            ns.number = 1\n",
    "            ns.start = stimtime + i*isi\n",
    "            syn = h.tmGlut(sec(x))\n",
    "            syn.nmda_ratio = nmda_ratio\n",
    "            nc = h.NetCon(ns, syn)\n",
    "            nc.weight[0] = weight\n",
    "            cons.append(nc)\n",
    "            syns.append(syn)\n",
    "            nsts.append(ns)\n",
    "            stimuli.append((cons, syns, nsts))\n",
    "    return stimuli"
   ]
  },
  {
   "cell_type": "code",
   "execution_count": 11,
   "id": "71cbb0e6",
   "metadata": {},
   "outputs": [],
   "source": [
    "def set_syn_clustered(stimtime, cells, nsyn=10, weight=0.5e-3, nmda_ratio=0.5):\n",
    "    synstimuli = []\n",
    "    for i, cell in enumerate(cells):\n",
    "        dend_terms = sorted([sec for sec in get_terminals(cell.soma[0]) if 'dend' in sec.name()])\n",
    "        term = dend_terms[i]\n",
    "        stimuli = set_syn_stim_cluster(stimtime, cell, [term], nsyn, weight, nmda_ratio)\n",
    "        synstimuli.append(stimuli)\n",
    "    return synstimuli"
   ]
  },
  {
   "cell_type": "code",
   "execution_count": 12,
   "id": "54f2a2d7",
   "metadata": {},
   "outputs": [],
   "source": [
    "def set_soma_stim(amp, delay, dur, cells):\n",
    "    stimuli = []\n",
    "    for cell in cells:\n",
    "        soma = cell.soma[0]\n",
    "        stim = h.IClamp(soma(0.5))\n",
    "        stim.amp = amp\n",
    "        stim.delay = delay\n",
    "        stim.dur = dur\n",
    "        stimuli.append(stim)\n",
    "    return stimuli"
   ]
  },
  {
   "cell_type": "code",
   "execution_count": 13,
   "id": "c8ae2eaa",
   "metadata": {},
   "outputs": [],
   "source": [
    "def get_term_volts(cells, x=1.0):\n",
    "    volts = []\n",
    "    for i, cell in enumerate(cells):\n",
    "        dend_tips = sorted([sec for sec in get_terminals(cell.soma[0]) if 'dend' in sec.name()])\n",
    "        volt = h.Vector()\n",
    "        volt.record(dend_tips[i](x)._ref_v)\n",
    "        volts.append(volt)\n",
    "    return volts"
   ]
  },
  {
   "cell_type": "code",
   "execution_count": 14,
   "id": "ce82d1dd",
   "metadata": {},
   "outputs": [],
   "source": [
    "def get_soma_volts(cells):\n",
    "    volts = []\n",
    "    for i, cell in enumerate(cells):\n",
    "        volt = h.Vector()\n",
    "        volt.record(cell.soma[0](0.5)._ref_v)\n",
    "        volts.append(volt)\n",
    "    return volts"
   ]
  },
  {
   "cell_type": "code",
   "execution_count": 15,
   "id": "acf01bf6",
   "metadata": {},
   "outputs": [],
   "source": [
    "allcells = []\n",
    "for cellhoc in cellhocs:\n",
    "    allcells.append(make_nterm_cells(cellhoc))\n",
    "#allcells"
   ]
  },
  {
   "cell_type": "code",
   "execution_count": 16,
   "id": "65e39d26",
   "metadata": {},
   "outputs": [],
   "source": [
    "allstim = []\n",
    "for cells in allcells:\n",
    "    stimuli = set_soma_stim(amp, 0, simtime, cells)\n",
    "    allstim.append(stimuli)"
   ]
  },
  {
   "cell_type": "code",
   "execution_count": 17,
   "id": "6abcf5ef",
   "metadata": {},
   "outputs": [],
   "source": [
    "allsynstim = []\n",
    "for cells in allcells:\n",
    "    stimuli = set_syn_clustered(stim_start, cells, nsyn=nsyn, weight=weight, nmda_ratio=nmda_ratio)\n",
    "    allsynstim.append(stimuli)"
   ]
  },
  {
   "cell_type": "code",
   "execution_count": 18,
   "id": "744ec099",
   "metadata": {},
   "outputs": [],
   "source": [
    "allvolts = []\n",
    "allsoma_volts = []\n",
    "for cells in allcells:\n",
    "    volts = get_term_volts(cells, x=0.5)\n",
    "    soma_volts = get_soma_volts(cells)\n",
    "    allvolts.append(volts)\n",
    "    allsoma_volts.append(soma_volts)"
   ]
  },
  {
   "cell_type": "code",
   "execution_count": 19,
   "id": "5aa563a1",
   "metadata": {},
   "outputs": [],
   "source": [
    "time = h.Vector()\n",
    "time.record(h._ref_t);"
   ]
  },
  {
   "cell_type": "code",
   "execution_count": 20,
   "id": "86ac50eb",
   "metadata": {},
   "outputs": [
    {
     "name": "stdout",
     "output_type": "stream",
     "text": [
      "CPU times: user 39 s, sys: 79.2 ms, total: 39.1 s\n",
      "Wall time: 39 s\n"
     ]
    },
    {
     "data": {
      "text/plain": [
       "0.0"
      ]
     },
     "execution_count": 20,
     "metadata": {},
     "output_type": "execute_result"
    }
   ],
   "source": [
    "%%time\n",
    "h.v_init = -70  # -92.5\n",
    "h.celsius = 35\n",
    "h.tstop = simtime\n",
    "cvode = h.CVode()\n",
    "cvode.active(True)\n",
    "h.run()"
   ]
  },
  {
   "cell_type": "code",
   "execution_count": 21,
   "id": "b08f1646",
   "metadata": {},
   "outputs": [
    {
     "data": {
      "image/png": "[encoded data removed]",
      "text/plain": [
       "<Figure size 600x300 with 1 Axes>"
      ]
     },
     "metadata": {},
     "output_type": "display_data"
    }
   ],
   "source": [
    "fig, ax = plt.subplots(figsize=(6, 3))\n",
    "\n",
    "color = 'darkred'\n",
    "t = np.array(time)\n",
    "_label = True\n",
    "for volts, soma_volts in zip(allvolts, allsoma_volts):\n",
    "    for volt, soma_volt in zip(volts, soma_volts):\n",
    "        v = np.array(volt)\n",
    "        s = np.array(soma_volt)\n",
    "        sel = (t > stim_start - 50)\n",
    "        lw = 2 if _label else 1\n",
    "        label = 'soma' if _label else ''\n",
    "        ax.plot(t[sel] - stim_start, s[sel], color=color, label=label, linewidth=lw, zorder=100)\n",
    "        alpha = 1 if _label else 0.25\n",
    "        label = 'dendrites' if _label else ''\n",
    "        ax.plot(t[sel] - stim_start, v[sel], color=lighten_color(color), label=label, linewidth=lw, alpha=alpha)\n",
    "        _label = False\n",
    "ax.plot([0, stim_end - stim_start], [v[sel][0]-5, v[sel][0]-5], 'k', lw=5)\n",
    "\n",
    "ax.set_ylim(top=-10)\n",
    "ax.set_xlim(left=-50)\n",
    "ax.spines[['right', 'top']].set_visible(False)\n",
    "ax.set_ylabel('Membrane potential (mV)')\n",
    "ax.set_xlabel('Time (ms)')\n",
    "ax.legend(frameon=False)\n",
    "\n",
    "fig.tight_layout()"
   ]
  },
  {
   "cell_type": "code",
   "execution_count": null,
   "id": "b50ba921",
   "metadata": {},
   "outputs": [],
   "source": []
  }
 ],
 "metadata": {
  "kernelspec": {
   "display_name": "Python 3 (ipykernel)",
   "language": "python",
   "name": "python3"
  },
  "language_info": {
   "codemirror_mode": {
    "name": "ipython",
    "version": 3
   },
   "file_extension": ".py",
   "mimetype": "text/x-python",
   "name": "python",
   "nbconvert_exporter": "python",
   "pygments_lexer": "ipython3",
   "version": "3.10.14"
  }
 },
 "nbformat": 4,
 "nbformat_minor": 5
}
