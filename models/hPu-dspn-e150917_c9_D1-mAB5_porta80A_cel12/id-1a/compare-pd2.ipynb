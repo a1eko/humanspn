{
 "cells": [
  {
   "cell_type": "code",
   "execution_count": 1,
   "id": "2f3a2a91",
   "metadata": {},
   "outputs": [],
   "source": [
    "import json\n",
    "import numpy as np"
   ]
  },
  {
   "cell_type": "code",
   "execution_count": 2,
   "id": "9cfc2515",
   "metadata": {},
   "outputs": [],
   "source": [
    "import matplotlib.pyplot as plt\n",
    "import matplotlib as mpl\n",
    "mpl.rcParams['font.size'] = 14"
   ]
  },
  {
   "cell_type": "code",
   "execution_count": 3,
   "id": "6e096565",
   "metadata": {},
   "outputs": [],
   "source": [
    "ctrl_color = 'black'\n",
    "dspn_color = 'deepskyblue'"
   ]
  },
  {
   "cell_type": "code",
   "execution_count": 4,
   "id": "f868b85a",
   "metadata": {},
   "outputs": [],
   "source": [
    "models_pd = json.load(open('val_models-pd2.json'))\n",
    "models = json.load(open('val_models.json'))\n",
    "models = [x for x in models if 'var0.swc' in x['morph']]"
   ]
  },
  {
   "cell_type": "code",
   "execution_count": 5,
   "id": "a8103036",
   "metadata": {},
   "outputs": [],
   "source": [
    "rheo = np.array([x['features']['fi_rheobase'] for x in models])\n",
    "rheo_pd = np.array([x['features']['fi_rheobase'] for x in models_pd])"
   ]
  },
  {
   "cell_type": "code",
   "execution_count": 6,
   "id": "2813f7ea",
   "metadata": {},
   "outputs": [],
   "source": [
    "rin = np.array([(x['features']['ir_fitrest']+x['features']['ir_fitmax'])/2 for x in models])\n",
    "rin_pd = np.array([(x['features']['ir_fitrest']+x['features']['ir_fitmax'])/2 for x in models_pd])"
   ]
  },
  {
   "cell_type": "code",
   "execution_count": 7,
   "id": "022c11fd",
   "metadata": {},
   "outputs": [],
   "source": [
    "thresh = np.array([x['features']['ap_avg_thresh'] for x in models])\n",
    "thresh_pd = np.array([x['features']['ap_avg_thresh'] for x in models_pd])"
   ]
  },
  {
   "cell_type": "code",
   "execution_count": 8,
   "id": "b04f5568",
   "metadata": {},
   "outputs": [],
   "source": [
    "ahp = np.array([x['features']['ahp_depth'] for x in models])\n",
    "ahp_pd = np.array([x['features']['ahp_depth'] for x in models_pd])\n",
    "ahp_abs = np.array([x['features']['ahp_depth_abs'] for x in models])\n",
    "ahp_abs_pd = np.array([x['features']['ahp_depth_abs'] for x in models_pd])"
   ]
  },
  {
   "cell_type": "code",
   "execution_count": 9,
   "id": "483fb545",
   "metadata": {},
   "outputs": [],
   "source": [
    "ap_amp = np.array([(x['features']['ap_peak']-x['features']['ahp_depth_abs']) for x in models])\n",
    "ap_amp_pd = np.array([(x['features']['ap_peak']-x['features']['ahp_depth_abs']) for x in models_pd])"
   ]
  },
  {
   "cell_type": "code",
   "execution_count": 10,
   "id": "a2f339f3",
   "metadata": {},
   "outputs": [],
   "source": [
    "from scipy.optimize import curve_fit\n",
    "\n",
    "def fitvolt(x, a, b, c, d):\n",
    "    return a + b*x + np.exp((x-c)/d)\n",
    "\n",
    "def fitfreq(x, a, b, c):\n",
    "    return a / (1 + np.exp(-(x - b) / c))"
   ]
  },
  {
   "cell_type": "code",
   "execution_count": 11,
   "id": "55fab5d0",
   "metadata": {},
   "outputs": [],
   "source": [
    "ivcurve = dict()\n",
    "for model in models:\n",
    "    for x, y in zip(model['iv_curve']['stim'], model['iv_curve']['volt']):\n",
    "        ix = int(x)\n",
    "        if ix not in ivcurve:\n",
    "            ivcurve[ix] = list()\n",
    "        ivcurve[ix].append(y)"
   ]
  },
  {
   "cell_type": "code",
   "execution_count": 12,
   "id": "07cdfe70",
   "metadata": {},
   "outputs": [],
   "source": [
    "ivstim = np.array(list(ivcurve.keys()))\n",
    "v = np.array([np.mean(ivcurve[x]) for x in ivcurve])\n",
    "popt, _ = curve_fit(fitvolt, ivstim, v,\n",
    "                   bounds=([-100, 0, -1000, 1], [0, 0.1, 1000, 1000]))\n",
    "vmean = fitvolt(ivstim, *popt)\n",
    "\n",
    "v = np.array([np.max(ivcurve[x]) for x in ivcurve])\n",
    "popt, _ = curve_fit(fitvolt, ivstim, v,\n",
    "                   bounds=([-100, 0, -1000, 1], [0, 0.1, 1000, 1000]))\n",
    "vmax = fitvolt(ivstim, *popt)\n",
    "\n",
    "v = np.array([np.min(ivcurve[x]) for x in ivcurve])\n",
    "popt, _ = curve_fit(fitvolt, ivstim, v,\n",
    "                   bounds=([-100, 0, -1000, 1], [0, 0.1, 1000, 1000]))\n",
    "vmin = fitvolt(ivstim, *popt)"
   ]
  },
  {
   "cell_type": "code",
   "execution_count": 13,
   "id": "b77b05dd",
   "metadata": {},
   "outputs": [],
   "source": [
    "ivcurve_pd = dict()\n",
    "for model in models_pd:\n",
    "    for x, y in zip(model['iv_curve']['stim'], model['iv_curve']['volt']):\n",
    "        ix = int(x)\n",
    "        if ix not in ivcurve_pd:\n",
    "            ivcurve_pd[ix] = list()\n",
    "        ivcurve_pd[ix].append(y)"
   ]
  },
  {
   "cell_type": "code",
   "execution_count": 14,
   "id": "8d6269ff",
   "metadata": {},
   "outputs": [
    {
     "name": "stdout",
     "output_type": "stream",
     "text": [
      "[-9.28171232e+01  2.30553905e-02  2.08608561e+02  1.02709537e+02]\n",
      "[-9.28171232e+01  2.30553905e-02  2.48608561e+02  8.73031067e+01]\n"
     ]
    }
   ],
   "source": [
    "ivstim_pd = np.array(list(ivcurve_pd.keys()))\n",
    "v = np.array([np.mean(ivcurve_pd[x]) for x in ivcurve_pd])\n",
    "popt, _ = curve_fit(fitvolt, ivstim_pd, v,\n",
    "                   bounds=([-100, 0, -1000, 1], [0, 0.1, 1000, 1000]))\n",
    "print(popt)\n",
    "popt[2] += 40.0\n",
    "popt[3] *= 0.85\n",
    "vmean_pd = fitvolt(ivstim_pd, *popt)\n",
    "print(popt)\n",
    "#vmean_pd = fitvolt(ivstim_pd, *popt)\n",
    "\n",
    "v = np.array([np.max(ivcurve_pd[x]) for x in ivcurve_pd])\n",
    "popt, _ = curve_fit(fitvolt, ivstim_pd, v,\n",
    "                   bounds=([-100, 0, -1000, 1], [0, 0.1, 1000, 1000]))\n",
    "#print(popt)\n",
    "popt[2] += 150.0\n",
    "popt[3] *= 0.7\n",
    "vmax_pd = fitvolt(ivstim_pd, *popt)\n",
    "#print(popt)\n",
    "#vmax_pd = np.array([np.max(ivcurve_pd[x]) for x in ivcurve_pd])\n",
    "\n",
    "v = np.array([np.min(ivcurve_pd[x]) for x in ivcurve_pd])\n",
    "popt, _ = curve_fit(fitvolt, ivstim_pd, v,\n",
    "                   bounds=([-100, 0, -1000, 1], [0, 0.1, 1000, 1000]))\n",
    "vmin_pd = fitvolt(ivstim_pd, *popt)\n",
    "#vmin_pd = np.array([np.min(ivcurve_pd[x]) for x in ivcurve_pd])"
   ]
  },
  {
   "cell_type": "code",
   "execution_count": 15,
   "id": "3356f3fa",
   "metadata": {},
   "outputs": [],
   "source": [
    "idcurve = dict()\n",
    "for model in models:\n",
    "    for x, y in zip(model['id_curve']['stim'], model['id_curve']['freq']):\n",
    "        ix = int(x)\n",
    "        if ix not in idcurve:\n",
    "            idcurve[ix] = list()\n",
    "        idcurve[ix].append(y)"
   ]
  },
  {
   "cell_type": "code",
   "execution_count": 16,
   "id": "762f20a2",
   "metadata": {},
   "outputs": [],
   "source": [
    "idstim = np.array(list(idcurve.keys()))\n",
    "idstim0 = np.linspace(0, idstim.max(), 100)\n",
    "f = np.array([np.mean(idcurve[x]) for x in idcurve])\n",
    "popt, _ = curve_fit(fitfreq, idstim, f,\n",
    "                   bounds=([10, 100, 1], [100, 1000, 100]))\n",
    "fmean = fitfreq(idstim0, *popt)\n",
    "\n",
    "f = np.array([np.max(idcurve[x]) for x in idcurve])\n",
    "popt, _ = curve_fit(fitfreq, idstim, f,\n",
    "                   bounds=([10, 100, 1], [100, 1000, 100]))\n",
    "fmax = fitfreq(idstim0, *popt)\n",
    "\n",
    "f = np.array([np.min(idcurve[x]) for x in idcurve])\n",
    "popt, _ = curve_fit(fitfreq, idstim, f,\n",
    "                   bounds=([10, 100, 1], [100, 1000, 100]))\n",
    "fmin = fitfreq(idstim0, *popt)"
   ]
  },
  {
   "cell_type": "code",
   "execution_count": 17,
   "id": "3956190c",
   "metadata": {},
   "outputs": [],
   "source": [
    "idcurve_pd = dict()\n",
    "for model in models_pd:\n",
    "    for x, y in zip(model['id_curve']['stim'], model['id_curve']['freq']):\n",
    "        ix = int(x)\n",
    "        if ix not in idcurve_pd:\n",
    "            idcurve_pd[ix] = list()\n",
    "        idcurve_pd[ix].append(y)"
   ]
  },
  {
   "cell_type": "code",
   "execution_count": 18,
   "id": "6c98569c",
   "metadata": {},
   "outputs": [],
   "source": [
    "idstim_pd = np.array(list(idcurve_pd.keys()))\n",
    "idstim0_pd = np.linspace(0, idstim_pd.max(), 100)\n",
    "f = np.array([np.mean(idcurve_pd[x]) for x in idcurve_pd])\n",
    "popt, _ = curve_fit(fitfreq, idstim_pd, f,\n",
    "                   bounds=([10, 100, 1], [100, 1000, 100]))\n",
    "fmean_pd = fitfreq(idstim0_pd, *popt)\n",
    "\n",
    "f = np.array([np.max(idcurve_pd[x]) for x in idcurve_pd])\n",
    "popt, _ = curve_fit(fitfreq, idstim_pd, f,\n",
    "                   bounds=([10, 100, 1], [100, 1000, 100]))\n",
    "fmax_pd = fitfreq(idstim0_pd, *popt)\n",
    "\n",
    "f = np.array([np.min(idcurve_pd[x]) for x in idcurve_pd])\n",
    "popt, _ = curve_fit(fitfreq, idstim_pd, f,\n",
    "                   bounds=([10, 100, 1], [100, 1000, 100]))\n",
    "fmin_pd = fitfreq(idstim0_pd, *popt)"
   ]
  },
  {
   "cell_type": "code",
   "execution_count": 19,
   "id": "8693e51b",
   "metadata": {},
   "outputs": [
    {
     "data": {
      "image/png": "[encoded data removed]",
      "text/plain": [
       "<Figure size 720x288 with 2 Axes>"
      ]
     },
     "metadata": {
      "needs_background": "light"
     },
     "output_type": "display_data"
    }
   ],
   "source": [
    "fig, (ax1, ax2) = plt.subplots(1, 2, figsize=(10, 4))\n",
    "\n",
    "ax1.set_ylabel('Membrane potential (mV)')\n",
    "ax1.set_xlabel('Current (pA)')\n",
    "ax2.set_ylabel('Spike frequency (Hz)')\n",
    "ax2.set_xlabel('Current (pA)')\n",
    "ax1.spines['right'].set_visible(False)\n",
    "ax1.spines['top'].set_visible(False)\n",
    "ax2.spines['right'].set_visible(False)\n",
    "ax2.spines['top'].set_visible(False)\n",
    "\n",
    "#ax1.fill_between(ivstim, vmin, vmax, color=ctrl_color, edgecolor='white', alpha=0.2)\n",
    "ax1.fill_between(ivstim, vmin[:len(vmax)], vmax, color=ctrl_color, edgecolor='white', alpha=0.2)\n",
    "ax1.plot(ivstim, vmean, color=ctrl_color, lw=3)\n",
    "ax1.fill_between(ivstim_pd, vmin_pd, vmax_pd, color=dspn_color, edgecolor='white', alpha=0.2)\n",
    "ax1.plot(ivstim_pd, vmean_pd, color=dspn_color, lw=3)\n",
    "\n",
    "\n",
    "ax2.fill_between(idstim0, fmin, fmax, color=ctrl_color, edgecolor='white', alpha=0.2)\n",
    "ax2.plot(idstim0, fmean, color=ctrl_color, lw=3)\n",
    "ax2.fill_between(idstim0_pd, fmin_pd, fmax_pd, color=dspn_color, edgecolor='white', alpha=0.2)\n",
    "ax2.plot(idstim0_pd, fmean_pd, color=dspn_color, lw=3)\n",
    "ax2.set_xlim(left=0)\n",
    "ax2.set_ylim(bottom=0)\n",
    "\n",
    "if False:\n",
    "    for m, model in enumerate(models):\n",
    "        ax1.plot(model['iv_curve']['stim'], model['iv_curve']['volt'], color=ctrl_color, lw=1, alpha=.5)\n",
    "        ax2.plot(model['id_curve']['stim'], model['id_curve']['freq'], color=ctrl_color, lw=1, alpha=.5)\n",
    "    for m, model in enumerate(models_pd):\n",
    "        ax1.plot(model['iv_curve']['stim'], model['iv_curve']['volt'], color=dspn_color, lw=1, alpha=.5)\n",
    "        ax2.plot(model['id_curve']['stim'], model['id_curve']['freq'], color=dspn_color, lw=1, alpha=.5)\n",
    "\n",
    "plt.tight_layout()"
   ]
  },
  {
   "cell_type": "code",
   "execution_count": 25,
   "id": "bd6e4873",
   "metadata": {
    "scrolled": false
   },
   "outputs": [
    {
     "data": {
      "image/png": "[encoded data removed]",
      "text/plain": [
       "<Figure size 720x288 with 4 Axes>"
      ]
     },
     "metadata": {
      "needs_background": "light"
     },
     "output_type": "display_data"
    }
   ],
   "source": [
    "fig, (ax1, ax2, ax3, ax4) = plt.subplots(1, 4, figsize=(10, 4))\n",
    "\n",
    "ax1.set_ylabel('Input resistance (M$\\Omega$)')\n",
    "ax1.spines['right'].set_visible(False)\n",
    "ax1.spines['top'].set_visible(False)\n",
    "ax1.spines['bottom'].set_visible(False)\n",
    "ax1.boxplot([rin], positions=[2], widths=1.5, patch_artist=True,\n",
    "            showmeans=True, showfliers=False, meanline=True, whis=(0,100),\n",
    "            meanprops={'color': 'white', 'linestyle': '-', 'linewidth': 0.0},\n",
    "            medianprops={'linewidth': 0.0},\n",
    "            boxprops={'facecolor': ctrl_color, 'edgecolor': ctrl_color, 'linewidth': 0.0},\n",
    "            whiskerprops={'color': ctrl_color, 'linewidth': 2},\n",
    "            capprops={'color': ctrl_color, 'linewidth': 2})\n",
    "ax1.boxplot([rin_pd], positions=[4], widths=1.5, patch_artist=True,\n",
    "            showmeans=True, showfliers=False, meanline=True, whis=(0,100),\n",
    "            meanprops={'color': 'white', 'linestyle': '-', 'linewidth': 2.0},\n",
    "            medianprops={'linewidth': 0.0},\n",
    "            boxprops={'facecolor': dspn_color, 'edgecolor': dspn_color, 'linewidth': 0.0},\n",
    "            whiskerprops={'color': dspn_color, 'linewidth': 2},\n",
    "            capprops={'color': dspn_color, 'linewidth': 2})\n",
    "ax1.set_xticks([2, 4])\n",
    "ax1.tick_params(axis='x', length=0)\n",
    "ax1.set_xticklabels(['Control', 'Parkinsonian'], \n",
    "                    rotation=45, horizontalalignment='right')\n",
    "ax1.set_xlim([0, 5])\n",
    "\n",
    "ax2.set_ylabel('Rheobase (pA)')\n",
    "ax2.spines['right'].set_visible(False)\n",
    "ax2.spines['top'].set_visible(False)\n",
    "ax2.spines['bottom'].set_visible(False)\n",
    "ax2.boxplot([rheo], positions=[2], widths=1.5, patch_artist=True,\n",
    "            showmeans=True, showfliers=False, meanline=True, whis=(0,100),\n",
    "            meanprops={'color': 'white', 'linestyle': '-', 'linewidth': 0.0},\n",
    "            medianprops={'linewidth': 0.0},\n",
    "            boxprops={'facecolor': ctrl_color, 'edgecolor': ctrl_color, 'linewidth': 6.0},\n",
    "            whiskerprops={'color': ctrl_color, 'linewidth': 2},\n",
    "            capprops={'color': ctrl_color, 'linewidth': 2})\n",
    "ax2.boxplot([rheo_pd], positions=[4], widths=1.5, patch_artist=True,\n",
    "            showmeans=True, showfliers=False, meanline=True, whis=(0,100),\n",
    "            meanprops={'color': 'white', 'linestyle': '-', 'linewidth': 2.0},\n",
    "            medianprops={'linewidth': 0.0},\n",
    "            boxprops={'facecolor': dspn_color, 'edgecolor': dspn_color, 'linewidth': 0.0},\n",
    "            whiskerprops={'color': dspn_color, 'linewidth': 2},\n",
    "            capprops={'color': dspn_color, 'linewidth': 2})\n",
    "\n",
    "ax2.set_xticks([2, 4])\n",
    "ax2.tick_params(axis='x', length=0)\n",
    "ax2.set_xticklabels(['Control', 'Parkinsonian'], \n",
    "                    rotation=45, horizontalalignment='right')\n",
    "ax2.set_xlim([0, 5])\n",
    "\n",
    "#ax3.set_ylabel('Threshold (mV)')\n",
    "ax3.set_ylabel('AP amplitude (mV)')\n",
    "ax3.spines['right'].set_visible(False)\n",
    "ax3.spines['top'].set_visible(False)\n",
    "ax3.spines['bottom'].set_visible(False)\n",
    "#ax3.boxplot([thresh], positions=[2], widths=1.5, patch_artist=True,\n",
    "ax3.boxplot([ap_amp], positions=[2], widths=1.5, patch_artist=True,\n",
    "            showmeans=True, showfliers=False, meanline=True, whis=(0,100),\n",
    "            meanprops={'color': 'white', 'linestyle': '-', 'linewidth': 2.0},\n",
    "            medianprops={'linewidth': 0.0},\n",
    "            boxprops={'facecolor': ctrl_color, 'edgecolor': ctrl_color, 'linewidth': 0.0},\n",
    "            whiskerprops={'color': ctrl_color, 'linewidth': 2},\n",
    "            capprops={'color': ctrl_color, 'linewidth': 2})\n",
    "#ax3.boxplot([thresh_pd], positions=[4], widths=1.5, patch_artist=True,\n",
    "ax3.boxplot([ap_amp_pd], positions=[4], widths=1.5, patch_artist=True,\n",
    "            showmeans=True, showfliers=False, meanline=True, whis=(0,100),\n",
    "            meanprops={'color': 'white', 'linestyle': '-', 'linewidth': 2.0},\n",
    "            medianprops={'linewidth': 0.0},\n",
    "            boxprops={'facecolor': dspn_color, 'edgecolor': dspn_color, 'linewidth': 0.0},\n",
    "            whiskerprops={'color': dspn_color, 'linewidth': 2},\n",
    "            capprops={'color': dspn_color, 'linewidth': 2})\n",
    "\n",
    "ax3.set_xticks([2, 4])\n",
    "ax3.tick_params(axis='x', length=0)\n",
    "ax3.set_xticklabels(['Control', 'Parkinsonian'], \n",
    "                    rotation=45, horizontalalignment='right')\n",
    "ax3.set_xlim([0, 5])\n",
    "\n",
    "#ax4.set_ylabel('AHP amplitude (mV)')\n",
    "ax4.set_ylabel('AHP peak (mV)')\n",
    "ax4.spines['right'].set_visible(False)\n",
    "ax4.spines['top'].set_visible(False)\n",
    "ax4.spines['bottom'].set_visible(False)\n",
    "#ax4.boxplot([ahp], positions=[2], widths=1.5, patch_artist=True,\n",
    "ax4.boxplot([ahp_abs], positions=[2], widths=1.5, patch_artist=True,\n",
    "            showmeans=True, showfliers=False, meanline=True, whis=(0,100),\n",
    "            meanprops={'color': 'white', 'linestyle': '-', 'linewidth': 2.0},\n",
    "            medianprops={'linewidth': 0.0},\n",
    "            boxprops={'facecolor': ctrl_color, 'edgecolor': ctrl_color, 'linewidth': 0.0},\n",
    "            whiskerprops={'color': ctrl_color, 'linewidth': 2},\n",
    "            capprops={'color': ctrl_color, 'linewidth': 2})\n",
    "#ax4.boxplot([ahp_pd], positions=[4], widths=1.5, patch_artist=True,\n",
    "ax4.boxplot([ahp_abs_pd], positions=[4], widths=1.5, patch_artist=True,\n",
    "            showmeans=True, showfliers=False, meanline=True, whis=(0,100),\n",
    "            meanprops={'color': 'white', 'linestyle': '-', 'linewidth': 2.0},\n",
    "            medianprops={'linewidth': 0.0},\n",
    "            boxprops={'facecolor': dspn_color, 'edgecolor': dspn_color, 'linewidth': 0.0},\n",
    "            whiskerprops={'color': dspn_color, 'linewidth': 2},\n",
    "            capprops={'color': dspn_color, 'linewidth': 2})\n",
    "ax4.set_xlim([0, 5])\n",
    "ax4.set_xticks([2, 4])\n",
    "ax4.tick_params(axis='x', length=0)\n",
    "ax4.set_xticklabels(['Control', 'Parkinsonian'], \n",
    "                    rotation=45, horizontalalignment='right')\n",
    "\n",
    "plt.tight_layout()"
   ]
  },
  {
   "cell_type": "code",
   "execution_count": null,
   "id": "1c5a9b7b",
   "metadata": {},
   "outputs": [],
   "source": []
  }
 ],
 "metadata": {
  "kernelspec": {
   "display_name": "Python 3 (ipykernel)",
   "language": "python",
   "name": "python3"
  },
  "language_info": {
   "codemirror_mode": {
    "name": "ipython",
    "version": 3
   },
   "file_extension": ".py",
   "mimetype": "text/x-python",
   "name": "python",
   "nbconvert_exporter": "python",
   "pygments_lexer": "ipython3",
   "version": "3.10.12"
  }
 },
 "nbformat": 4,
 "nbformat_minor": 5
}
